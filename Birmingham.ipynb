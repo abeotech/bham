{
 "cells": [
  {
   "cell_type": "code",
   "execution_count": 2,
   "id": "e8130041",
   "metadata": {},
   "outputs": [
    {
     "data": {
      "text/html": [
       "        <script type=\"text/javascript\">\n",
       "        window.PlotlyConfig = {MathJaxConfig: 'local'};\n",
       "        if (window.MathJax) {MathJax.Hub.Config({SVG: {font: \"STIX-Web\"}});}\n",
       "        if (typeof require !== 'undefined') {\n",
       "        require.undef(\"plotly\");\n",
       "        requirejs.config({\n",
       "            paths: {\n",
       "                'plotly': ['https://cdn.plot.ly/plotly-2.9.0.min']\n",
       "            }\n",
       "        });\n",
       "        require(['plotly'], function(Plotly) {\n",
       "            window._Plotly = Plotly;\n",
       "        });\n",
       "        }\n",
       "        </script>\n",
       "        "
      ]
     },
     "metadata": {},
     "output_type": "display_data"
    },
    {
     "data": {
      "text/html": [
       "        <script type=\"text/javascript\">\n",
       "        window.PlotlyConfig = {MathJaxConfig: 'local'};\n",
       "        if (window.MathJax) {MathJax.Hub.Config({SVG: {font: \"STIX-Web\"}});}\n",
       "        if (typeof require !== 'undefined') {\n",
       "        require.undef(\"plotly\");\n",
       "        requirejs.config({\n",
       "            paths: {\n",
       "                'plotly': ['https://cdn.plot.ly/plotly-2.9.0.min']\n",
       "            }\n",
       "        });\n",
       "        require(['plotly'], function(Plotly) {\n",
       "            window._Plotly = Plotly;\n",
       "        });\n",
       "        }\n",
       "        </script>\n",
       "        "
      ]
     },
     "metadata": {},
     "output_type": "display_data"
    }
   ],
   "source": [
    "import scipy.stats as stats\n",
    "import pandas as pd\n",
    "import numpy as np\n",
    "import matplotlib.pyplot as plt\n",
    "import cufflinks as cf\n",
    "cf.set_config_file(theme='pearl',sharing='public',offline=True)"
   ]
  },
  {
   "cell_type": "code",
   "execution_count": 3,
   "id": "ca381847",
   "metadata": {},
   "outputs": [],
   "source": [
    "df = pd.read_excel(\"nomis_pay.xlsx\", sheet_name=1)"
   ]
  },
  {
   "cell_type": "code",
   "execution_count": 4,
   "id": "c8d1a8be",
   "metadata": {},
   "outputs": [
    {
     "name": "stderr",
     "output_type": "stream",
     "text": [
      "/Users/soundscript/opt/anaconda3/lib/python3.9/site-packages/pandas/core/indexes/base.py:6982: FutureWarning:\n",
      "\n",
      "In a future version, the Index constructor will not infer numeric dtypes when passed object-dtype sequences (matching Series behavior)\n",
      "\n"
     ]
    }
   ],
   "source": [
    "df.columns = df.iloc[5]\n",
    "df = df[6:]\n",
    "df = df.set_index('Year')"
   ]
  },
  {
   "cell_type": "code",
   "execution_count": 5,
   "id": "eb232caa",
   "metadata": {
    "scrolled": true
   },
   "outputs": [
    {
     "data": {
      "text/html": [
       "<div>\n",
       "<style scoped>\n",
       "    .dataframe tbody tr th:only-of-type {\n",
       "        vertical-align: middle;\n",
       "    }\n",
       "\n",
       "    .dataframe tbody tr th {\n",
       "        vertical-align: top;\n",
       "    }\n",
       "\n",
       "    .dataframe thead th {\n",
       "        text-align: right;\n",
       "    }\n",
       "</style>\n",
       "<table border=\"1\" class=\"dataframe\">\n",
       "  <thead>\n",
       "    <tr style=\"text-align: right;\">\n",
       "      <th>5</th>\n",
       "      <th>Birmingham, Edgbaston</th>\n",
       "      <th>Birmingham, Erdington</th>\n",
       "      <th>Birmingham, Hall Green</th>\n",
       "      <th>Birmingham, Hodge Hill</th>\n",
       "      <th>Birmingham, Ladywood</th>\n",
       "      <th>Birmingham, Northfield</th>\n",
       "      <th>Birmingham, Perry Barr</th>\n",
       "      <th>Birmingham, Selly Oak</th>\n",
       "      <th>Birmingham, Yardley</th>\n",
       "      <th>Sutton Coldfield</th>\n",
       "      <th>Birmingham average</th>\n",
       "      <th>UK average</th>\n",
       "    </tr>\n",
       "    <tr>\n",
       "      <th>Year</th>\n",
       "      <th></th>\n",
       "      <th></th>\n",
       "      <th></th>\n",
       "      <th></th>\n",
       "      <th></th>\n",
       "      <th></th>\n",
       "      <th></th>\n",
       "      <th></th>\n",
       "      <th></th>\n",
       "      <th></th>\n",
       "      <th></th>\n",
       "      <th></th>\n",
       "    </tr>\n",
       "  </thead>\n",
       "  <tbody>\n",
       "    <tr>\n",
       "      <th>2018</th>\n",
       "      <td>669.6</td>\n",
       "      <td>531.6</td>\n",
       "      <td>630.7</td>\n",
       "      <td>519</td>\n",
       "      <td>676.6</td>\n",
       "      <td>613.4</td>\n",
       "      <td>526.7</td>\n",
       "      <td>646.9</td>\n",
       "      <td>575.7</td>\n",
       "      <td>779.4</td>\n",
       "      <td>616.96</td>\n",
       "      <td>685.2</td>\n",
       "    </tr>\n",
       "    <tr>\n",
       "      <th>2019</th>\n",
       "      <td>634.1</td>\n",
       "      <td>542.5</td>\n",
       "      <td>682.8</td>\n",
       "      <td>540.9</td>\n",
       "      <td>642</td>\n",
       "      <td>613.8</td>\n",
       "      <td>545.9</td>\n",
       "      <td>682.2</td>\n",
       "      <td>554.6</td>\n",
       "      <td>788.9</td>\n",
       "      <td>622.77</td>\n",
       "      <td>703.4</td>\n",
       "    </tr>\n",
       "    <tr>\n",
       "      <th>2020</th>\n",
       "      <td>713.1</td>\n",
       "      <td>533.7</td>\n",
       "      <td>689.8</td>\n",
       "      <td>543.4</td>\n",
       "      <td>660.2</td>\n",
       "      <td>604.3</td>\n",
       "      <td>597</td>\n",
       "      <td>690.6</td>\n",
       "      <td>540.7</td>\n",
       "      <td>800.5</td>\n",
       "      <td>637.33</td>\n",
       "      <td>708.1</td>\n",
       "    </tr>\n",
       "    <tr>\n",
       "      <th>2021</th>\n",
       "      <td>698.8</td>\n",
       "      <td>579.4</td>\n",
       "      <td>723.8</td>\n",
       "      <td>550.7</td>\n",
       "      <td>646.4</td>\n",
       "      <td>632.1</td>\n",
       "      <td>576.9</td>\n",
       "      <td>699.1</td>\n",
       "      <td>619.5</td>\n",
       "      <td>774.7</td>\n",
       "      <td>650.14</td>\n",
       "      <td>727.2</td>\n",
       "    </tr>\n",
       "  </tbody>\n",
       "</table>\n",
       "</div>"
      ],
      "text/plain": [
       "5    Birmingham, Edgbaston Birmingham, Erdington Birmingham, Hall Green  \\\n",
       "Year                                                                      \n",
       "2018                 669.6                 531.6                  630.7   \n",
       "2019                 634.1                 542.5                  682.8   \n",
       "2020                 713.1                 533.7                  689.8   \n",
       "2021                 698.8                 579.4                  723.8   \n",
       "\n",
       "5    Birmingham, Hodge Hill Birmingham, Ladywood Birmingham, Northfield  \\\n",
       "Year                                                                      \n",
       "2018                    519                676.6                  613.4   \n",
       "2019                  540.9                  642                  613.8   \n",
       "2020                  543.4                660.2                  604.3   \n",
       "2021                  550.7                646.4                  632.1   \n",
       "\n",
       "5    Birmingham, Perry Barr Birmingham, Selly Oak Birmingham, Yardley  \\\n",
       "Year                                                                    \n",
       "2018                  526.7                 646.9               575.7   \n",
       "2019                  545.9                 682.2               554.6   \n",
       "2020                    597                 690.6               540.7   \n",
       "2021                  576.9                 699.1               619.5   \n",
       "\n",
       "5    Sutton Coldfield Birmingham average UK average  \n",
       "Year                                                 \n",
       "2018            779.4             616.96      685.2  \n",
       "2019            788.9             622.77      703.4  \n",
       "2020            800.5             637.33      708.1  \n",
       "2021            774.7             650.14      727.2  "
      ]
     },
     "execution_count": 5,
     "metadata": {},
     "output_type": "execute_result"
    }
   ],
   "source": [
    "df"
   ]
  },
  {
   "cell_type": "code",
   "execution_count": 6,
   "id": "f7f0b759",
   "metadata": {
    "scrolled": true
   },
   "outputs": [
    {
     "data": {
      "application/vnd.plotly.v1+json": {
       "config": {
        "linkText": "Export to plot.ly",
        "plotlyServerURL": "https://plot.ly",
        "showLink": true
       },
       "data": [
        {
         "marker": {
          "color": "rgba(255, 153, 51, 0.6)",
          "line": {
           "color": "rgba(255, 153, 51, 1.0)",
           "width": 1
          }
         },
         "name": "UK average",
         "orientation": "v",
         "text": "",
         "type": "bar",
         "x": [
          2018,
          2019,
          2020,
          2021
         ],
         "y": [
          685.2,
          703.4,
          708.1,
          727.2
         ]
        },
        {
         "marker": {
          "color": "rgba(55, 128, 191, 0.6)",
          "line": {
           "color": "rgba(55, 128, 191, 1.0)",
           "width": 1
          }
         },
         "name": "Birmingham average",
         "orientation": "v",
         "text": "",
         "type": "bar",
         "x": [
          2018,
          2019,
          2020,
          2021
         ],
         "y": [
          616.9599999999999,
          622.7699999999999,
          637.33,
          650.14
         ]
        }
       ],
       "layout": {
        "barmode": "overlay",
        "legend": {
         "bgcolor": "#F5F6F9",
         "font": {
          "color": "#4D5663"
         }
        },
        "paper_bgcolor": "#F5F6F9",
        "plot_bgcolor": "#F5F6F9",
        "template": {
         "data": {
          "bar": [
           {
            "error_x": {
             "color": "#2a3f5f"
            },
            "error_y": {
             "color": "#2a3f5f"
            },
            "marker": {
             "line": {
              "color": "#E5ECF6",
              "width": 0.5
             },
             "pattern": {
              "fillmode": "overlay",
              "size": 10,
              "solidity": 0.2
             }
            },
            "type": "bar"
           }
          ],
          "barpolar": [
           {
            "marker": {
             "line": {
              "color": "#E5ECF6",
              "width": 0.5
             },
             "pattern": {
              "fillmode": "overlay",
              "size": 10,
              "solidity": 0.2
             }
            },
            "type": "barpolar"
           }
          ],
          "carpet": [
           {
            "aaxis": {
             "endlinecolor": "#2a3f5f",
             "gridcolor": "white",
             "linecolor": "white",
             "minorgridcolor": "white",
             "startlinecolor": "#2a3f5f"
            },
            "baxis": {
             "endlinecolor": "#2a3f5f",
             "gridcolor": "white",
             "linecolor": "white",
             "minorgridcolor": "white",
             "startlinecolor": "#2a3f5f"
            },
            "type": "carpet"
           }
          ],
          "choropleth": [
           {
            "colorbar": {
             "outlinewidth": 0,
             "ticks": ""
            },
            "type": "choropleth"
           }
          ],
          "contour": [
           {
            "colorbar": {
             "outlinewidth": 0,
             "ticks": ""
            },
            "colorscale": [
             [
              0,
              "#0d0887"
             ],
             [
              0.1111111111111111,
              "#46039f"
             ],
             [
              0.2222222222222222,
              "#7201a8"
             ],
             [
              0.3333333333333333,
              "#9c179e"
             ],
             [
              0.4444444444444444,
              "#bd3786"
             ],
             [
              0.5555555555555556,
              "#d8576b"
             ],
             [
              0.6666666666666666,
              "#ed7953"
             ],
             [
              0.7777777777777778,
              "#fb9f3a"
             ],
             [
              0.8888888888888888,
              "#fdca26"
             ],
             [
              1,
              "#f0f921"
             ]
            ],
            "type": "contour"
           }
          ],
          "contourcarpet": [
           {
            "colorbar": {
             "outlinewidth": 0,
             "ticks": ""
            },
            "type": "contourcarpet"
           }
          ],
          "heatmap": [
           {
            "colorbar": {
             "outlinewidth": 0,
             "ticks": ""
            },
            "colorscale": [
             [
              0,
              "#0d0887"
             ],
             [
              0.1111111111111111,
              "#46039f"
             ],
             [
              0.2222222222222222,
              "#7201a8"
             ],
             [
              0.3333333333333333,
              "#9c179e"
             ],
             [
              0.4444444444444444,
              "#bd3786"
             ],
             [
              0.5555555555555556,
              "#d8576b"
             ],
             [
              0.6666666666666666,
              "#ed7953"
             ],
             [
              0.7777777777777778,
              "#fb9f3a"
             ],
             [
              0.8888888888888888,
              "#fdca26"
             ],
             [
              1,
              "#f0f921"
             ]
            ],
            "type": "heatmap"
           }
          ],
          "heatmapgl": [
           {
            "colorbar": {
             "outlinewidth": 0,
             "ticks": ""
            },
            "colorscale": [
             [
              0,
              "#0d0887"
             ],
             [
              0.1111111111111111,
              "#46039f"
             ],
             [
              0.2222222222222222,
              "#7201a8"
             ],
             [
              0.3333333333333333,
              "#9c179e"
             ],
             [
              0.4444444444444444,
              "#bd3786"
             ],
             [
              0.5555555555555556,
              "#d8576b"
             ],
             [
              0.6666666666666666,
              "#ed7953"
             ],
             [
              0.7777777777777778,
              "#fb9f3a"
             ],
             [
              0.8888888888888888,
              "#fdca26"
             ],
             [
              1,
              "#f0f921"
             ]
            ],
            "type": "heatmapgl"
           }
          ],
          "histogram": [
           {
            "marker": {
             "pattern": {
              "fillmode": "overlay",
              "size": 10,
              "solidity": 0.2
             }
            },
            "type": "histogram"
           }
          ],
          "histogram2d": [
           {
            "colorbar": {
             "outlinewidth": 0,
             "ticks": ""
            },
            "colorscale": [
             [
              0,
              "#0d0887"
             ],
             [
              0.1111111111111111,
              "#46039f"
             ],
             [
              0.2222222222222222,
              "#7201a8"
             ],
             [
              0.3333333333333333,
              "#9c179e"
             ],
             [
              0.4444444444444444,
              "#bd3786"
             ],
             [
              0.5555555555555556,
              "#d8576b"
             ],
             [
              0.6666666666666666,
              "#ed7953"
             ],
             [
              0.7777777777777778,
              "#fb9f3a"
             ],
             [
              0.8888888888888888,
              "#fdca26"
             ],
             [
              1,
              "#f0f921"
             ]
            ],
            "type": "histogram2d"
           }
          ],
          "histogram2dcontour": [
           {
            "colorbar": {
             "outlinewidth": 0,
             "ticks": ""
            },
            "colorscale": [
             [
              0,
              "#0d0887"
             ],
             [
              0.1111111111111111,
              "#46039f"
             ],
             [
              0.2222222222222222,
              "#7201a8"
             ],
             [
              0.3333333333333333,
              "#9c179e"
             ],
             [
              0.4444444444444444,
              "#bd3786"
             ],
             [
              0.5555555555555556,
              "#d8576b"
             ],
             [
              0.6666666666666666,
              "#ed7953"
             ],
             [
              0.7777777777777778,
              "#fb9f3a"
             ],
             [
              0.8888888888888888,
              "#fdca26"
             ],
             [
              1,
              "#f0f921"
             ]
            ],
            "type": "histogram2dcontour"
           }
          ],
          "mesh3d": [
           {
            "colorbar": {
             "outlinewidth": 0,
             "ticks": ""
            },
            "type": "mesh3d"
           }
          ],
          "parcoords": [
           {
            "line": {
             "colorbar": {
              "outlinewidth": 0,
              "ticks": ""
             }
            },
            "type": "parcoords"
           }
          ],
          "pie": [
           {
            "automargin": true,
            "type": "pie"
           }
          ],
          "scatter": [
           {
            "marker": {
             "colorbar": {
              "outlinewidth": 0,
              "ticks": ""
             }
            },
            "type": "scatter"
           }
          ],
          "scatter3d": [
           {
            "line": {
             "colorbar": {
              "outlinewidth": 0,
              "ticks": ""
             }
            },
            "marker": {
             "colorbar": {
              "outlinewidth": 0,
              "ticks": ""
             }
            },
            "type": "scatter3d"
           }
          ],
          "scattercarpet": [
           {
            "marker": {
             "colorbar": {
              "outlinewidth": 0,
              "ticks": ""
             }
            },
            "type": "scattercarpet"
           }
          ],
          "scattergeo": [
           {
            "marker": {
             "colorbar": {
              "outlinewidth": 0,
              "ticks": ""
             }
            },
            "type": "scattergeo"
           }
          ],
          "scattergl": [
           {
            "marker": {
             "colorbar": {
              "outlinewidth": 0,
              "ticks": ""
             }
            },
            "type": "scattergl"
           }
          ],
          "scattermapbox": [
           {
            "marker": {
             "colorbar": {
              "outlinewidth": 0,
              "ticks": ""
             }
            },
            "type": "scattermapbox"
           }
          ],
          "scatterpolar": [
           {
            "marker": {
             "colorbar": {
              "outlinewidth": 0,
              "ticks": ""
             }
            },
            "type": "scatterpolar"
           }
          ],
          "scatterpolargl": [
           {
            "marker": {
             "colorbar": {
              "outlinewidth": 0,
              "ticks": ""
             }
            },
            "type": "scatterpolargl"
           }
          ],
          "scatterternary": [
           {
            "marker": {
             "colorbar": {
              "outlinewidth": 0,
              "ticks": ""
             }
            },
            "type": "scatterternary"
           }
          ],
          "surface": [
           {
            "colorbar": {
             "outlinewidth": 0,
             "ticks": ""
            },
            "colorscale": [
             [
              0,
              "#0d0887"
             ],
             [
              0.1111111111111111,
              "#46039f"
             ],
             [
              0.2222222222222222,
              "#7201a8"
             ],
             [
              0.3333333333333333,
              "#9c179e"
             ],
             [
              0.4444444444444444,
              "#bd3786"
             ],
             [
              0.5555555555555556,
              "#d8576b"
             ],
             [
              0.6666666666666666,
              "#ed7953"
             ],
             [
              0.7777777777777778,
              "#fb9f3a"
             ],
             [
              0.8888888888888888,
              "#fdca26"
             ],
             [
              1,
              "#f0f921"
             ]
            ],
            "type": "surface"
           }
          ],
          "table": [
           {
            "cells": {
             "fill": {
              "color": "#EBF0F8"
             },
             "line": {
              "color": "white"
             }
            },
            "header": {
             "fill": {
              "color": "#C8D4E3"
             },
             "line": {
              "color": "white"
             }
            },
            "type": "table"
           }
          ]
         },
         "layout": {
          "annotationdefaults": {
           "arrowcolor": "#2a3f5f",
           "arrowhead": 0,
           "arrowwidth": 1
          },
          "autotypenumbers": "strict",
          "coloraxis": {
           "colorbar": {
            "outlinewidth": 0,
            "ticks": ""
           }
          },
          "colorscale": {
           "diverging": [
            [
             0,
             "#8e0152"
            ],
            [
             0.1,
             "#c51b7d"
            ],
            [
             0.2,
             "#de77ae"
            ],
            [
             0.3,
             "#f1b6da"
            ],
            [
             0.4,
             "#fde0ef"
            ],
            [
             0.5,
             "#f7f7f7"
            ],
            [
             0.6,
             "#e6f5d0"
            ],
            [
             0.7,
             "#b8e186"
            ],
            [
             0.8,
             "#7fbc41"
            ],
            [
             0.9,
             "#4d9221"
            ],
            [
             1,
             "#276419"
            ]
           ],
           "sequential": [
            [
             0,
             "#0d0887"
            ],
            [
             0.1111111111111111,
             "#46039f"
            ],
            [
             0.2222222222222222,
             "#7201a8"
            ],
            [
             0.3333333333333333,
             "#9c179e"
            ],
            [
             0.4444444444444444,
             "#bd3786"
            ],
            [
             0.5555555555555556,
             "#d8576b"
            ],
            [
             0.6666666666666666,
             "#ed7953"
            ],
            [
             0.7777777777777778,
             "#fb9f3a"
            ],
            [
             0.8888888888888888,
             "#fdca26"
            ],
            [
             1,
             "#f0f921"
            ]
           ],
           "sequentialminus": [
            [
             0,
             "#0d0887"
            ],
            [
             0.1111111111111111,
             "#46039f"
            ],
            [
             0.2222222222222222,
             "#7201a8"
            ],
            [
             0.3333333333333333,
             "#9c179e"
            ],
            [
             0.4444444444444444,
             "#bd3786"
            ],
            [
             0.5555555555555556,
             "#d8576b"
            ],
            [
             0.6666666666666666,
             "#ed7953"
            ],
            [
             0.7777777777777778,
             "#fb9f3a"
            ],
            [
             0.8888888888888888,
             "#fdca26"
            ],
            [
             1,
             "#f0f921"
            ]
           ]
          },
          "colorway": [
           "#636efa",
           "#EF553B",
           "#00cc96",
           "#ab63fa",
           "#FFA15A",
           "#19d3f3",
           "#FF6692",
           "#B6E880",
           "#FF97FF",
           "#FECB52"
          ],
          "font": {
           "color": "#2a3f5f"
          },
          "geo": {
           "bgcolor": "white",
           "lakecolor": "white",
           "landcolor": "#E5ECF6",
           "showlakes": true,
           "showland": true,
           "subunitcolor": "white"
          },
          "hoverlabel": {
           "align": "left"
          },
          "hovermode": "closest",
          "mapbox": {
           "style": "light"
          },
          "paper_bgcolor": "white",
          "plot_bgcolor": "#E5ECF6",
          "polar": {
           "angularaxis": {
            "gridcolor": "white",
            "linecolor": "white",
            "ticks": ""
           },
           "bgcolor": "#E5ECF6",
           "radialaxis": {
            "gridcolor": "white",
            "linecolor": "white",
            "ticks": ""
           }
          },
          "scene": {
           "xaxis": {
            "backgroundcolor": "#E5ECF6",
            "gridcolor": "white",
            "gridwidth": 2,
            "linecolor": "white",
            "showbackground": true,
            "ticks": "",
            "zerolinecolor": "white"
           },
           "yaxis": {
            "backgroundcolor": "#E5ECF6",
            "gridcolor": "white",
            "gridwidth": 2,
            "linecolor": "white",
            "showbackground": true,
            "ticks": "",
            "zerolinecolor": "white"
           },
           "zaxis": {
            "backgroundcolor": "#E5ECF6",
            "gridcolor": "white",
            "gridwidth": 2,
            "linecolor": "white",
            "showbackground": true,
            "ticks": "",
            "zerolinecolor": "white"
           }
          },
          "shapedefaults": {
           "line": {
            "color": "#2a3f5f"
           }
          },
          "ternary": {
           "aaxis": {
            "gridcolor": "white",
            "linecolor": "white",
            "ticks": ""
           },
           "baxis": {
            "gridcolor": "white",
            "linecolor": "white",
            "ticks": ""
           },
           "bgcolor": "#E5ECF6",
           "caxis": {
            "gridcolor": "white",
            "linecolor": "white",
            "ticks": ""
           }
          },
          "title": {
           "x": 0.05
          },
          "xaxis": {
           "automargin": true,
           "gridcolor": "white",
           "linecolor": "white",
           "ticks": "",
           "title": {
            "standoff": 15
           },
           "zerolinecolor": "white",
           "zerolinewidth": 2
          },
          "yaxis": {
           "automargin": true,
           "gridcolor": "white",
           "linecolor": "white",
           "ticks": "",
           "title": {
            "standoff": 15
           },
           "zerolinecolor": "white",
           "zerolinewidth": 2
          }
         }
        },
        "title": {
         "font": {
          "color": "#4D5663"
         },
         "text": "UK and Birmingham average weekly pay(£)"
        },
        "xaxis": {
         "gridcolor": "#E1E5ED",
         "showgrid": true,
         "tickfont": {
          "color": "#4D5663"
         },
         "title": {
          "font": {
           "color": "#4D5663"
          },
          "text": ""
         },
         "zerolinecolor": "#E1E5ED"
        },
        "yaxis": {
         "gridcolor": "#E1E5ED",
         "showgrid": true,
         "tickfont": {
          "color": "#4D5663"
         },
         "title": {
          "font": {
           "color": "#4D5663"
          },
          "text": "Average weekly pay(£)"
         },
         "zerolinecolor": "#E1E5ED"
        }
       }
      },
      "text/html": [
       "<div>                            <div id=\"4ec11067-6c73-4c79-8c99-ca544548290a\" class=\"plotly-graph-div\" style=\"height:525px; width:100%;\"></div>            <script type=\"text/javascript\">                require([\"plotly\"], function(Plotly) {                    window.PLOTLYENV=window.PLOTLYENV || {};\n",
       "                    window.PLOTLYENV.BASE_URL='https://plot.ly';                                    if (document.getElementById(\"4ec11067-6c73-4c79-8c99-ca544548290a\")) {                    Plotly.newPlot(                        \"4ec11067-6c73-4c79-8c99-ca544548290a\",                        [{\"marker\":{\"color\":\"rgba(255, 153, 51, 0.6)\",\"line\":{\"color\":\"rgba(255, 153, 51, 1.0)\",\"width\":1}},\"name\":\"UK average\",\"orientation\":\"v\",\"text\":\"\",\"x\":[2018,2019,2020,2021],\"y\":[685.2,703.4,708.1,727.2],\"type\":\"bar\"},{\"marker\":{\"color\":\"rgba(55, 128, 191, 0.6)\",\"line\":{\"color\":\"rgba(55, 128, 191, 1.0)\",\"width\":1}},\"name\":\"Birmingham average\",\"orientation\":\"v\",\"text\":\"\",\"x\":[2018,2019,2020,2021],\"y\":[616.9599999999999,622.7699999999999,637.33,650.14],\"type\":\"bar\"}],                        {\"barmode\":\"overlay\",\"legend\":{\"bgcolor\":\"#F5F6F9\",\"font\":{\"color\":\"#4D5663\"}},\"paper_bgcolor\":\"#F5F6F9\",\"plot_bgcolor\":\"#F5F6F9\",\"template\":{\"data\":{\"barpolar\":[{\"marker\":{\"line\":{\"color\":\"#E5ECF6\",\"width\":0.5},\"pattern\":{\"fillmode\":\"overlay\",\"size\":10,\"solidity\":0.2}},\"type\":\"barpolar\"}],\"bar\":[{\"error_x\":{\"color\":\"#2a3f5f\"},\"error_y\":{\"color\":\"#2a3f5f\"},\"marker\":{\"line\":{\"color\":\"#E5ECF6\",\"width\":0.5},\"pattern\":{\"fillmode\":\"overlay\",\"size\":10,\"solidity\":0.2}},\"type\":\"bar\"}],\"carpet\":[{\"aaxis\":{\"endlinecolor\":\"#2a3f5f\",\"gridcolor\":\"white\",\"linecolor\":\"white\",\"minorgridcolor\":\"white\",\"startlinecolor\":\"#2a3f5f\"},\"baxis\":{\"endlinecolor\":\"#2a3f5f\",\"gridcolor\":\"white\",\"linecolor\":\"white\",\"minorgridcolor\":\"white\",\"startlinecolor\":\"#2a3f5f\"},\"type\":\"carpet\"}],\"choropleth\":[{\"colorbar\":{\"outlinewidth\":0,\"ticks\":\"\"},\"type\":\"choropleth\"}],\"contourcarpet\":[{\"colorbar\":{\"outlinewidth\":0,\"ticks\":\"\"},\"type\":\"contourcarpet\"}],\"contour\":[{\"colorbar\":{\"outlinewidth\":0,\"ticks\":\"\"},\"colorscale\":[[0.0,\"#0d0887\"],[0.1111111111111111,\"#46039f\"],[0.2222222222222222,\"#7201a8\"],[0.3333333333333333,\"#9c179e\"],[0.4444444444444444,\"#bd3786\"],[0.5555555555555556,\"#d8576b\"],[0.6666666666666666,\"#ed7953\"],[0.7777777777777778,\"#fb9f3a\"],[0.8888888888888888,\"#fdca26\"],[1.0,\"#f0f921\"]],\"type\":\"contour\"}],\"heatmapgl\":[{\"colorbar\":{\"outlinewidth\":0,\"ticks\":\"\"},\"colorscale\":[[0.0,\"#0d0887\"],[0.1111111111111111,\"#46039f\"],[0.2222222222222222,\"#7201a8\"],[0.3333333333333333,\"#9c179e\"],[0.4444444444444444,\"#bd3786\"],[0.5555555555555556,\"#d8576b\"],[0.6666666666666666,\"#ed7953\"],[0.7777777777777778,\"#fb9f3a\"],[0.8888888888888888,\"#fdca26\"],[1.0,\"#f0f921\"]],\"type\":\"heatmapgl\"}],\"heatmap\":[{\"colorbar\":{\"outlinewidth\":0,\"ticks\":\"\"},\"colorscale\":[[0.0,\"#0d0887\"],[0.1111111111111111,\"#46039f\"],[0.2222222222222222,\"#7201a8\"],[0.3333333333333333,\"#9c179e\"],[0.4444444444444444,\"#bd3786\"],[0.5555555555555556,\"#d8576b\"],[0.6666666666666666,\"#ed7953\"],[0.7777777777777778,\"#fb9f3a\"],[0.8888888888888888,\"#fdca26\"],[1.0,\"#f0f921\"]],\"type\":\"heatmap\"}],\"histogram2dcontour\":[{\"colorbar\":{\"outlinewidth\":0,\"ticks\":\"\"},\"colorscale\":[[0.0,\"#0d0887\"],[0.1111111111111111,\"#46039f\"],[0.2222222222222222,\"#7201a8\"],[0.3333333333333333,\"#9c179e\"],[0.4444444444444444,\"#bd3786\"],[0.5555555555555556,\"#d8576b\"],[0.6666666666666666,\"#ed7953\"],[0.7777777777777778,\"#fb9f3a\"],[0.8888888888888888,\"#fdca26\"],[1.0,\"#f0f921\"]],\"type\":\"histogram2dcontour\"}],\"histogram2d\":[{\"colorbar\":{\"outlinewidth\":0,\"ticks\":\"\"},\"colorscale\":[[0.0,\"#0d0887\"],[0.1111111111111111,\"#46039f\"],[0.2222222222222222,\"#7201a8\"],[0.3333333333333333,\"#9c179e\"],[0.4444444444444444,\"#bd3786\"],[0.5555555555555556,\"#d8576b\"],[0.6666666666666666,\"#ed7953\"],[0.7777777777777778,\"#fb9f3a\"],[0.8888888888888888,\"#fdca26\"],[1.0,\"#f0f921\"]],\"type\":\"histogram2d\"}],\"histogram\":[{\"marker\":{\"pattern\":{\"fillmode\":\"overlay\",\"size\":10,\"solidity\":0.2}},\"type\":\"histogram\"}],\"mesh3d\":[{\"colorbar\":{\"outlinewidth\":0,\"ticks\":\"\"},\"type\":\"mesh3d\"}],\"parcoords\":[{\"line\":{\"colorbar\":{\"outlinewidth\":0,\"ticks\":\"\"}},\"type\":\"parcoords\"}],\"pie\":[{\"automargin\":true,\"type\":\"pie\"}],\"scatter3d\":[{\"line\":{\"colorbar\":{\"outlinewidth\":0,\"ticks\":\"\"}},\"marker\":{\"colorbar\":{\"outlinewidth\":0,\"ticks\":\"\"}},\"type\":\"scatter3d\"}],\"scattercarpet\":[{\"marker\":{\"colorbar\":{\"outlinewidth\":0,\"ticks\":\"\"}},\"type\":\"scattercarpet\"}],\"scattergeo\":[{\"marker\":{\"colorbar\":{\"outlinewidth\":0,\"ticks\":\"\"}},\"type\":\"scattergeo\"}],\"scattergl\":[{\"marker\":{\"colorbar\":{\"outlinewidth\":0,\"ticks\":\"\"}},\"type\":\"scattergl\"}],\"scattermapbox\":[{\"marker\":{\"colorbar\":{\"outlinewidth\":0,\"ticks\":\"\"}},\"type\":\"scattermapbox\"}],\"scatterpolargl\":[{\"marker\":{\"colorbar\":{\"outlinewidth\":0,\"ticks\":\"\"}},\"type\":\"scatterpolargl\"}],\"scatterpolar\":[{\"marker\":{\"colorbar\":{\"outlinewidth\":0,\"ticks\":\"\"}},\"type\":\"scatterpolar\"}],\"scatter\":[{\"marker\":{\"colorbar\":{\"outlinewidth\":0,\"ticks\":\"\"}},\"type\":\"scatter\"}],\"scatterternary\":[{\"marker\":{\"colorbar\":{\"outlinewidth\":0,\"ticks\":\"\"}},\"type\":\"scatterternary\"}],\"surface\":[{\"colorbar\":{\"outlinewidth\":0,\"ticks\":\"\"},\"colorscale\":[[0.0,\"#0d0887\"],[0.1111111111111111,\"#46039f\"],[0.2222222222222222,\"#7201a8\"],[0.3333333333333333,\"#9c179e\"],[0.4444444444444444,\"#bd3786\"],[0.5555555555555556,\"#d8576b\"],[0.6666666666666666,\"#ed7953\"],[0.7777777777777778,\"#fb9f3a\"],[0.8888888888888888,\"#fdca26\"],[1.0,\"#f0f921\"]],\"type\":\"surface\"}],\"table\":[{\"cells\":{\"fill\":{\"color\":\"#EBF0F8\"},\"line\":{\"color\":\"white\"}},\"header\":{\"fill\":{\"color\":\"#C8D4E3\"},\"line\":{\"color\":\"white\"}},\"type\":\"table\"}]},\"layout\":{\"annotationdefaults\":{\"arrowcolor\":\"#2a3f5f\",\"arrowhead\":0,\"arrowwidth\":1},\"autotypenumbers\":\"strict\",\"coloraxis\":{\"colorbar\":{\"outlinewidth\":0,\"ticks\":\"\"}},\"colorscale\":{\"diverging\":[[0,\"#8e0152\"],[0.1,\"#c51b7d\"],[0.2,\"#de77ae\"],[0.3,\"#f1b6da\"],[0.4,\"#fde0ef\"],[0.5,\"#f7f7f7\"],[0.6,\"#e6f5d0\"],[0.7,\"#b8e186\"],[0.8,\"#7fbc41\"],[0.9,\"#4d9221\"],[1,\"#276419\"]],\"sequential\":[[0.0,\"#0d0887\"],[0.1111111111111111,\"#46039f\"],[0.2222222222222222,\"#7201a8\"],[0.3333333333333333,\"#9c179e\"],[0.4444444444444444,\"#bd3786\"],[0.5555555555555556,\"#d8576b\"],[0.6666666666666666,\"#ed7953\"],[0.7777777777777778,\"#fb9f3a\"],[0.8888888888888888,\"#fdca26\"],[1.0,\"#f0f921\"]],\"sequentialminus\":[[0.0,\"#0d0887\"],[0.1111111111111111,\"#46039f\"],[0.2222222222222222,\"#7201a8\"],[0.3333333333333333,\"#9c179e\"],[0.4444444444444444,\"#bd3786\"],[0.5555555555555556,\"#d8576b\"],[0.6666666666666666,\"#ed7953\"],[0.7777777777777778,\"#fb9f3a\"],[0.8888888888888888,\"#fdca26\"],[1.0,\"#f0f921\"]]},\"colorway\":[\"#636efa\",\"#EF553B\",\"#00cc96\",\"#ab63fa\",\"#FFA15A\",\"#19d3f3\",\"#FF6692\",\"#B6E880\",\"#FF97FF\",\"#FECB52\"],\"font\":{\"color\":\"#2a3f5f\"},\"geo\":{\"bgcolor\":\"white\",\"lakecolor\":\"white\",\"landcolor\":\"#E5ECF6\",\"showlakes\":true,\"showland\":true,\"subunitcolor\":\"white\"},\"hoverlabel\":{\"align\":\"left\"},\"hovermode\":\"closest\",\"mapbox\":{\"style\":\"light\"},\"paper_bgcolor\":\"white\",\"plot_bgcolor\":\"#E5ECF6\",\"polar\":{\"angularaxis\":{\"gridcolor\":\"white\",\"linecolor\":\"white\",\"ticks\":\"\"},\"bgcolor\":\"#E5ECF6\",\"radialaxis\":{\"gridcolor\":\"white\",\"linecolor\":\"white\",\"ticks\":\"\"}},\"scene\":{\"xaxis\":{\"backgroundcolor\":\"#E5ECF6\",\"gridcolor\":\"white\",\"gridwidth\":2,\"linecolor\":\"white\",\"showbackground\":true,\"ticks\":\"\",\"zerolinecolor\":\"white\"},\"yaxis\":{\"backgroundcolor\":\"#E5ECF6\",\"gridcolor\":\"white\",\"gridwidth\":2,\"linecolor\":\"white\",\"showbackground\":true,\"ticks\":\"\",\"zerolinecolor\":\"white\"},\"zaxis\":{\"backgroundcolor\":\"#E5ECF6\",\"gridcolor\":\"white\",\"gridwidth\":2,\"linecolor\":\"white\",\"showbackground\":true,\"ticks\":\"\",\"zerolinecolor\":\"white\"}},\"shapedefaults\":{\"line\":{\"color\":\"#2a3f5f\"}},\"ternary\":{\"aaxis\":{\"gridcolor\":\"white\",\"linecolor\":\"white\",\"ticks\":\"\"},\"baxis\":{\"gridcolor\":\"white\",\"linecolor\":\"white\",\"ticks\":\"\"},\"bgcolor\":\"#E5ECF6\",\"caxis\":{\"gridcolor\":\"white\",\"linecolor\":\"white\",\"ticks\":\"\"}},\"title\":{\"x\":0.05},\"xaxis\":{\"automargin\":true,\"gridcolor\":\"white\",\"linecolor\":\"white\",\"ticks\":\"\",\"title\":{\"standoff\":15},\"zerolinecolor\":\"white\",\"zerolinewidth\":2},\"yaxis\":{\"automargin\":true,\"gridcolor\":\"white\",\"linecolor\":\"white\",\"ticks\":\"\",\"title\":{\"standoff\":15},\"zerolinecolor\":\"white\",\"zerolinewidth\":2}}},\"title\":{\"font\":{\"color\":\"#4D5663\"},\"text\":\"UK and Birmingham average weekly pay(\\u00a3)\"},\"xaxis\":{\"gridcolor\":\"#E1E5ED\",\"showgrid\":true,\"tickfont\":{\"color\":\"#4D5663\"},\"title\":{\"font\":{\"color\":\"#4D5663\"},\"text\":\"\"},\"zerolinecolor\":\"#E1E5ED\"},\"yaxis\":{\"gridcolor\":\"#E1E5ED\",\"showgrid\":true,\"tickfont\":{\"color\":\"#4D5663\"},\"title\":{\"font\":{\"color\":\"#4D5663\"},\"text\":\"Average weekly pay(\\u00a3)\"},\"zerolinecolor\":\"#E1E5ED\"}},                        {\"showLink\": true, \"linkText\": \"Export to plot.ly\", \"plotlyServerURL\": \"https://plot.ly\", \"responsive\": true}                    ).then(function(){\n",
       "                            \n",
       "var gd = document.getElementById('4ec11067-6c73-4c79-8c99-ca544548290a');\n",
       "var x = new MutationObserver(function (mutations, observer) {{\n",
       "        var display = window.getComputedStyle(gd).display;\n",
       "        if (!display || display === 'none') {{\n",
       "            console.log([gd, 'removed!']);\n",
       "            Plotly.purge(gd);\n",
       "            observer.disconnect();\n",
       "        }}\n",
       "}});\n",
       "\n",
       "// Listen for the removal of the full notebook cells\n",
       "var notebookContainer = gd.closest('#notebook-container');\n",
       "if (notebookContainer) {{\n",
       "    x.observe(notebookContainer, {childList: true});\n",
       "}}\n",
       "\n",
       "// Listen for the clearing of the current output cell\n",
       "var outputEl = gd.closest('.output');\n",
       "if (outputEl) {{\n",
       "    x.observe(outputEl, {childList: true});\n",
       "}}\n",
       "\n",
       "                        })                };                });            </script>        </div>"
      ]
     },
     "metadata": {},
     "output_type": "display_data"
    }
   ],
   "source": [
    "df[['UK average', 'Birmingham average']].\\\n",
    "                                iplot(kind='bar', barmode='overlay',\n",
    "                                      yTitle = 'Average weekly pay(£)',\n",
    "                                     title='UK and Birmingham average weekly pay(£)')"
   ]
  },
  {
   "cell_type": "code",
   "execution_count": 7,
   "id": "b12c660e",
   "metadata": {
    "scrolled": true
   },
   "outputs": [
    {
     "data": {
      "application/vnd.plotly.v1+json": {
       "config": {
        "linkText": "Export to plot.ly",
        "plotlyServerURL": "https://plot.ly",
        "showLink": true
       },
       "data": [
        {
         "marker": {
          "color": "rgba(255, 153, 51, 0.6)",
          "line": {
           "color": "rgba(255, 153, 51, 1.0)",
           "width": 1
          }
         },
         "name": "Birmingham, Edgbaston",
         "orientation": "v",
         "text": "",
         "type": "bar",
         "x": [
          2018,
          2019,
          2020,
          2021
         ],
         "y": [
          669.6,
          634.1,
          713.1,
          698.8
         ]
        },
        {
         "marker": {
          "color": "rgba(55, 128, 191, 0.6)",
          "line": {
           "color": "rgba(55, 128, 191, 1.0)",
           "width": 1
          }
         },
         "name": "Birmingham, Erdington",
         "orientation": "v",
         "text": "",
         "type": "bar",
         "x": [
          2018,
          2019,
          2020,
          2021
         ],
         "y": [
          531.6,
          542.5,
          533.7,
          579.4
         ]
        },
        {
         "marker": {
          "color": "rgba(50, 171, 96, 0.6)",
          "line": {
           "color": "rgba(50, 171, 96, 1.0)",
           "width": 1
          }
         },
         "name": "Birmingham, Hall Green",
         "orientation": "v",
         "text": "",
         "type": "bar",
         "x": [
          2018,
          2019,
          2020,
          2021
         ],
         "y": [
          630.7,
          682.8,
          689.8,
          723.8
         ]
        },
        {
         "marker": {
          "color": "rgba(128, 0, 128, 0.6)",
          "line": {
           "color": "rgba(128, 0, 128, 1.0)",
           "width": 1
          }
         },
         "name": "Birmingham, Hodge Hill",
         "orientation": "v",
         "text": "",
         "type": "bar",
         "x": [
          2018,
          2019,
          2020,
          2021
         ],
         "y": [
          519,
          540.9,
          543.4,
          550.7
         ]
        },
        {
         "marker": {
          "color": "rgba(219, 64, 82, 0.6)",
          "line": {
           "color": "rgba(219, 64, 82, 1.0)",
           "width": 1
          }
         },
         "name": "Birmingham, Ladywood",
         "orientation": "v",
         "text": "",
         "type": "bar",
         "x": [
          2018,
          2019,
          2020,
          2021
         ],
         "y": [
          676.6,
          642,
          660.2,
          646.4
         ]
        },
        {
         "marker": {
          "color": "rgba(0, 128, 128, 0.6)",
          "line": {
           "color": "rgba(0, 128, 128, 1.0)",
           "width": 1
          }
         },
         "name": "Birmingham, Northfield",
         "orientation": "v",
         "text": "",
         "type": "bar",
         "x": [
          2018,
          2019,
          2020,
          2021
         ],
         "y": [
          613.4,
          613.8,
          604.3,
          632.1
         ]
        },
        {
         "marker": {
          "color": "rgba(255, 255, 51, 0.6)",
          "line": {
           "color": "rgba(255, 255, 51, 1.0)",
           "width": 1
          }
         },
         "name": "Birmingham, Perry Barr",
         "orientation": "v",
         "text": "",
         "type": "bar",
         "x": [
          2018,
          2019,
          2020,
          2021
         ],
         "y": [
          526.7,
          545.9,
          597,
          576.9
         ]
        },
        {
         "marker": {
          "color": "rgba(128, 128, 0, 0.6)",
          "line": {
           "color": "rgba(128, 128, 0, 1.0)",
           "width": 1
          }
         },
         "name": "Birmingham, Selly Oak",
         "orientation": "v",
         "text": "",
         "type": "bar",
         "x": [
          2018,
          2019,
          2020,
          2021
         ],
         "y": [
          646.9,
          682.2,
          690.6,
          699.1
         ]
        },
        {
         "marker": {
          "color": "rgba(251, 128, 114, 0.6)",
          "line": {
           "color": "rgba(251, 128, 114, 1.0)",
           "width": 1
          }
         },
         "name": "Birmingham, Yardley",
         "orientation": "v",
         "text": "",
         "type": "bar",
         "x": [
          2018,
          2019,
          2020,
          2021
         ],
         "y": [
          575.7,
          554.6,
          540.7,
          619.5
         ]
        },
        {
         "marker": {
          "color": "rgba(128, 177, 211, 0.6)",
          "line": {
           "color": "rgba(128, 177, 211, 1.0)",
           "width": 1
          }
         },
         "name": "Sutton Coldfield",
         "orientation": "v",
         "text": "",
         "type": "bar",
         "x": [
          2018,
          2019,
          2020,
          2021
         ],
         "y": [
          779.4,
          788.9,
          800.5,
          774.7
         ]
        },
        {
         "marker": {
          "color": "rgba(128, 177, 211, 0.6)",
          "line": {
           "color": "rgba(128, 177, 211, 0.8999999999999999)",
           "width": 1
          }
         },
         "name": "Birmingham average",
         "orientation": "v",
         "text": "",
         "type": "bar",
         "x": [
          2018,
          2019,
          2020,
          2021
         ],
         "y": [
          616.9599999999999,
          622.7699999999999,
          637.33,
          650.14
         ]
        },
        {
         "marker": {
          "color": "rgba(255, 153, 51, 0.6)",
          "line": {
           "color": "rgba(255, 153, 51, 0.8999999999999999)",
           "width": 1
          }
         },
         "name": "UK average",
         "orientation": "v",
         "text": "",
         "type": "bar",
         "x": [
          2018,
          2019,
          2020,
          2021
         ],
         "y": [
          685.2,
          703.4,
          708.1,
          727.2
         ]
        }
       ],
       "layout": {
        "legend": {
         "bgcolor": "#F5F6F9",
         "font": {
          "color": "#4D5663"
         }
        },
        "paper_bgcolor": "#F5F6F9",
        "plot_bgcolor": "#F5F6F9",
        "template": {
         "data": {
          "bar": [
           {
            "error_x": {
             "color": "#2a3f5f"
            },
            "error_y": {
             "color": "#2a3f5f"
            },
            "marker": {
             "line": {
              "color": "#E5ECF6",
              "width": 0.5
             },
             "pattern": {
              "fillmode": "overlay",
              "size": 10,
              "solidity": 0.2
             }
            },
            "type": "bar"
           }
          ],
          "barpolar": [
           {
            "marker": {
             "line": {
              "color": "#E5ECF6",
              "width": 0.5
             },
             "pattern": {
              "fillmode": "overlay",
              "size": 10,
              "solidity": 0.2
             }
            },
            "type": "barpolar"
           }
          ],
          "carpet": [
           {
            "aaxis": {
             "endlinecolor": "#2a3f5f",
             "gridcolor": "white",
             "linecolor": "white",
             "minorgridcolor": "white",
             "startlinecolor": "#2a3f5f"
            },
            "baxis": {
             "endlinecolor": "#2a3f5f",
             "gridcolor": "white",
             "linecolor": "white",
             "minorgridcolor": "white",
             "startlinecolor": "#2a3f5f"
            },
            "type": "carpet"
           }
          ],
          "choropleth": [
           {
            "colorbar": {
             "outlinewidth": 0,
             "ticks": ""
            },
            "type": "choropleth"
           }
          ],
          "contour": [
           {
            "colorbar": {
             "outlinewidth": 0,
             "ticks": ""
            },
            "colorscale": [
             [
              0,
              "#0d0887"
             ],
             [
              0.1111111111111111,
              "#46039f"
             ],
             [
              0.2222222222222222,
              "#7201a8"
             ],
             [
              0.3333333333333333,
              "#9c179e"
             ],
             [
              0.4444444444444444,
              "#bd3786"
             ],
             [
              0.5555555555555556,
              "#d8576b"
             ],
             [
              0.6666666666666666,
              "#ed7953"
             ],
             [
              0.7777777777777778,
              "#fb9f3a"
             ],
             [
              0.8888888888888888,
              "#fdca26"
             ],
             [
              1,
              "#f0f921"
             ]
            ],
            "type": "contour"
           }
          ],
          "contourcarpet": [
           {
            "colorbar": {
             "outlinewidth": 0,
             "ticks": ""
            },
            "type": "contourcarpet"
           }
          ],
          "heatmap": [
           {
            "colorbar": {
             "outlinewidth": 0,
             "ticks": ""
            },
            "colorscale": [
             [
              0,
              "#0d0887"
             ],
             [
              0.1111111111111111,
              "#46039f"
             ],
             [
              0.2222222222222222,
              "#7201a8"
             ],
             [
              0.3333333333333333,
              "#9c179e"
             ],
             [
              0.4444444444444444,
              "#bd3786"
             ],
             [
              0.5555555555555556,
              "#d8576b"
             ],
             [
              0.6666666666666666,
              "#ed7953"
             ],
             [
              0.7777777777777778,
              "#fb9f3a"
             ],
             [
              0.8888888888888888,
              "#fdca26"
             ],
             [
              1,
              "#f0f921"
             ]
            ],
            "type": "heatmap"
           }
          ],
          "heatmapgl": [
           {
            "colorbar": {
             "outlinewidth": 0,
             "ticks": ""
            },
            "colorscale": [
             [
              0,
              "#0d0887"
             ],
             [
              0.1111111111111111,
              "#46039f"
             ],
             [
              0.2222222222222222,
              "#7201a8"
             ],
             [
              0.3333333333333333,
              "#9c179e"
             ],
             [
              0.4444444444444444,
              "#bd3786"
             ],
             [
              0.5555555555555556,
              "#d8576b"
             ],
             [
              0.6666666666666666,
              "#ed7953"
             ],
             [
              0.7777777777777778,
              "#fb9f3a"
             ],
             [
              0.8888888888888888,
              "#fdca26"
             ],
             [
              1,
              "#f0f921"
             ]
            ],
            "type": "heatmapgl"
           }
          ],
          "histogram": [
           {
            "marker": {
             "pattern": {
              "fillmode": "overlay",
              "size": 10,
              "solidity": 0.2
             }
            },
            "type": "histogram"
           }
          ],
          "histogram2d": [
           {
            "colorbar": {
             "outlinewidth": 0,
             "ticks": ""
            },
            "colorscale": [
             [
              0,
              "#0d0887"
             ],
             [
              0.1111111111111111,
              "#46039f"
             ],
             [
              0.2222222222222222,
              "#7201a8"
             ],
             [
              0.3333333333333333,
              "#9c179e"
             ],
             [
              0.4444444444444444,
              "#bd3786"
             ],
             [
              0.5555555555555556,
              "#d8576b"
             ],
             [
              0.6666666666666666,
              "#ed7953"
             ],
             [
              0.7777777777777778,
              "#fb9f3a"
             ],
             [
              0.8888888888888888,
              "#fdca26"
             ],
             [
              1,
              "#f0f921"
             ]
            ],
            "type": "histogram2d"
           }
          ],
          "histogram2dcontour": [
           {
            "colorbar": {
             "outlinewidth": 0,
             "ticks": ""
            },
            "colorscale": [
             [
              0,
              "#0d0887"
             ],
             [
              0.1111111111111111,
              "#46039f"
             ],
             [
              0.2222222222222222,
              "#7201a8"
             ],
             [
              0.3333333333333333,
              "#9c179e"
             ],
             [
              0.4444444444444444,
              "#bd3786"
             ],
             [
              0.5555555555555556,
              "#d8576b"
             ],
             [
              0.6666666666666666,
              "#ed7953"
             ],
             [
              0.7777777777777778,
              "#fb9f3a"
             ],
             [
              0.8888888888888888,
              "#fdca26"
             ],
             [
              1,
              "#f0f921"
             ]
            ],
            "type": "histogram2dcontour"
           }
          ],
          "mesh3d": [
           {
            "colorbar": {
             "outlinewidth": 0,
             "ticks": ""
            },
            "type": "mesh3d"
           }
          ],
          "parcoords": [
           {
            "line": {
             "colorbar": {
              "outlinewidth": 0,
              "ticks": ""
             }
            },
            "type": "parcoords"
           }
          ],
          "pie": [
           {
            "automargin": true,
            "type": "pie"
           }
          ],
          "scatter": [
           {
            "marker": {
             "colorbar": {
              "outlinewidth": 0,
              "ticks": ""
             }
            },
            "type": "scatter"
           }
          ],
          "scatter3d": [
           {
            "line": {
             "colorbar": {
              "outlinewidth": 0,
              "ticks": ""
             }
            },
            "marker": {
             "colorbar": {
              "outlinewidth": 0,
              "ticks": ""
             }
            },
            "type": "scatter3d"
           }
          ],
          "scattercarpet": [
           {
            "marker": {
             "colorbar": {
              "outlinewidth": 0,
              "ticks": ""
             }
            },
            "type": "scattercarpet"
           }
          ],
          "scattergeo": [
           {
            "marker": {
             "colorbar": {
              "outlinewidth": 0,
              "ticks": ""
             }
            },
            "type": "scattergeo"
           }
          ],
          "scattergl": [
           {
            "marker": {
             "colorbar": {
              "outlinewidth": 0,
              "ticks": ""
             }
            },
            "type": "scattergl"
           }
          ],
          "scattermapbox": [
           {
            "marker": {
             "colorbar": {
              "outlinewidth": 0,
              "ticks": ""
             }
            },
            "type": "scattermapbox"
           }
          ],
          "scatterpolar": [
           {
            "marker": {
             "colorbar": {
              "outlinewidth": 0,
              "ticks": ""
             }
            },
            "type": "scatterpolar"
           }
          ],
          "scatterpolargl": [
           {
            "marker": {
             "colorbar": {
              "outlinewidth": 0,
              "ticks": ""
             }
            },
            "type": "scatterpolargl"
           }
          ],
          "scatterternary": [
           {
            "marker": {
             "colorbar": {
              "outlinewidth": 0,
              "ticks": ""
             }
            },
            "type": "scatterternary"
           }
          ],
          "surface": [
           {
            "colorbar": {
             "outlinewidth": 0,
             "ticks": ""
            },
            "colorscale": [
             [
              0,
              "#0d0887"
             ],
             [
              0.1111111111111111,
              "#46039f"
             ],
             [
              0.2222222222222222,
              "#7201a8"
             ],
             [
              0.3333333333333333,
              "#9c179e"
             ],
             [
              0.4444444444444444,
              "#bd3786"
             ],
             [
              0.5555555555555556,
              "#d8576b"
             ],
             [
              0.6666666666666666,
              "#ed7953"
             ],
             [
              0.7777777777777778,
              "#fb9f3a"
             ],
             [
              0.8888888888888888,
              "#fdca26"
             ],
             [
              1,
              "#f0f921"
             ]
            ],
            "type": "surface"
           }
          ],
          "table": [
           {
            "cells": {
             "fill": {
              "color": "#EBF0F8"
             },
             "line": {
              "color": "white"
             }
            },
            "header": {
             "fill": {
              "color": "#C8D4E3"
             },
             "line": {
              "color": "white"
             }
            },
            "type": "table"
           }
          ]
         },
         "layout": {
          "annotationdefaults": {
           "arrowcolor": "#2a3f5f",
           "arrowhead": 0,
           "arrowwidth": 1
          },
          "autotypenumbers": "strict",
          "coloraxis": {
           "colorbar": {
            "outlinewidth": 0,
            "ticks": ""
           }
          },
          "colorscale": {
           "diverging": [
            [
             0,
             "#8e0152"
            ],
            [
             0.1,
             "#c51b7d"
            ],
            [
             0.2,
             "#de77ae"
            ],
            [
             0.3,
             "#f1b6da"
            ],
            [
             0.4,
             "#fde0ef"
            ],
            [
             0.5,
             "#f7f7f7"
            ],
            [
             0.6,
             "#e6f5d0"
            ],
            [
             0.7,
             "#b8e186"
            ],
            [
             0.8,
             "#7fbc41"
            ],
            [
             0.9,
             "#4d9221"
            ],
            [
             1,
             "#276419"
            ]
           ],
           "sequential": [
            [
             0,
             "#0d0887"
            ],
            [
             0.1111111111111111,
             "#46039f"
            ],
            [
             0.2222222222222222,
             "#7201a8"
            ],
            [
             0.3333333333333333,
             "#9c179e"
            ],
            [
             0.4444444444444444,
             "#bd3786"
            ],
            [
             0.5555555555555556,
             "#d8576b"
            ],
            [
             0.6666666666666666,
             "#ed7953"
            ],
            [
             0.7777777777777778,
             "#fb9f3a"
            ],
            [
             0.8888888888888888,
             "#fdca26"
            ],
            [
             1,
             "#f0f921"
            ]
           ],
           "sequentialminus": [
            [
             0,
             "#0d0887"
            ],
            [
             0.1111111111111111,
             "#46039f"
            ],
            [
             0.2222222222222222,
             "#7201a8"
            ],
            [
             0.3333333333333333,
             "#9c179e"
            ],
            [
             0.4444444444444444,
             "#bd3786"
            ],
            [
             0.5555555555555556,
             "#d8576b"
            ],
            [
             0.6666666666666666,
             "#ed7953"
            ],
            [
             0.7777777777777778,
             "#fb9f3a"
            ],
            [
             0.8888888888888888,
             "#fdca26"
            ],
            [
             1,
             "#f0f921"
            ]
           ]
          },
          "colorway": [
           "#636efa",
           "#EF553B",
           "#00cc96",
           "#ab63fa",
           "#FFA15A",
           "#19d3f3",
           "#FF6692",
           "#B6E880",
           "#FF97FF",
           "#FECB52"
          ],
          "font": {
           "color": "#2a3f5f"
          },
          "geo": {
           "bgcolor": "white",
           "lakecolor": "white",
           "landcolor": "#E5ECF6",
           "showlakes": true,
           "showland": true,
           "subunitcolor": "white"
          },
          "hoverlabel": {
           "align": "left"
          },
          "hovermode": "closest",
          "mapbox": {
           "style": "light"
          },
          "paper_bgcolor": "white",
          "plot_bgcolor": "#E5ECF6",
          "polar": {
           "angularaxis": {
            "gridcolor": "white",
            "linecolor": "white",
            "ticks": ""
           },
           "bgcolor": "#E5ECF6",
           "radialaxis": {
            "gridcolor": "white",
            "linecolor": "white",
            "ticks": ""
           }
          },
          "scene": {
           "xaxis": {
            "backgroundcolor": "#E5ECF6",
            "gridcolor": "white",
            "gridwidth": 2,
            "linecolor": "white",
            "showbackground": true,
            "ticks": "",
            "zerolinecolor": "white"
           },
           "yaxis": {
            "backgroundcolor": "#E5ECF6",
            "gridcolor": "white",
            "gridwidth": 2,
            "linecolor": "white",
            "showbackground": true,
            "ticks": "",
            "zerolinecolor": "white"
           },
           "zaxis": {
            "backgroundcolor": "#E5ECF6",
            "gridcolor": "white",
            "gridwidth": 2,
            "linecolor": "white",
            "showbackground": true,
            "ticks": "",
            "zerolinecolor": "white"
           }
          },
          "shapedefaults": {
           "line": {
            "color": "#2a3f5f"
           }
          },
          "ternary": {
           "aaxis": {
            "gridcolor": "white",
            "linecolor": "white",
            "ticks": ""
           },
           "baxis": {
            "gridcolor": "white",
            "linecolor": "white",
            "ticks": ""
           },
           "bgcolor": "#E5ECF6",
           "caxis": {
            "gridcolor": "white",
            "linecolor": "white",
            "ticks": ""
           }
          },
          "title": {
           "x": 0.05
          },
          "xaxis": {
           "automargin": true,
           "gridcolor": "white",
           "linecolor": "white",
           "ticks": "",
           "title": {
            "standoff": 15
           },
           "zerolinecolor": "white",
           "zerolinewidth": 2
          },
          "yaxis": {
           "automargin": true,
           "gridcolor": "white",
           "linecolor": "white",
           "ticks": "",
           "title": {
            "standoff": 15
           },
           "zerolinecolor": "white",
           "zerolinewidth": 2
          }
         }
        },
        "title": {
         "font": {
          "color": "#4D5663"
         },
         "text": "Average weekly pay across the parliamentary constituencies"
        },
        "xaxis": {
         "gridcolor": "#E1E5ED",
         "showgrid": true,
         "tickfont": {
          "color": "#4D5663"
         },
         "title": {
          "font": {
           "color": "#4D5663"
          },
          "text": "Year"
         },
         "zerolinecolor": "#E1E5ED"
        },
        "yaxis": {
         "gridcolor": "#E1E5ED",
         "showgrid": true,
         "tickfont": {
          "color": "#4D5663"
         },
         "title": {
          "font": {
           "color": "#4D5663"
          },
          "text": "Average weekly pay (£)"
         },
         "zerolinecolor": "#E1E5ED"
        }
       }
      },
      "text/html": [
       "<div>                            <div id=\"9c3e87ea-1446-43fd-928c-9a0b823ddf32\" class=\"plotly-graph-div\" style=\"height:525px; width:100%;\"></div>            <script type=\"text/javascript\">                require([\"plotly\"], function(Plotly) {                    window.PLOTLYENV=window.PLOTLYENV || {};\n",
       "                    window.PLOTLYENV.BASE_URL='https://plot.ly';                                    if (document.getElementById(\"9c3e87ea-1446-43fd-928c-9a0b823ddf32\")) {                    Plotly.newPlot(                        \"9c3e87ea-1446-43fd-928c-9a0b823ddf32\",                        [{\"marker\":{\"color\":\"rgba(255, 153, 51, 0.6)\",\"line\":{\"color\":\"rgba(255, 153, 51, 1.0)\",\"width\":1}},\"name\":\"Birmingham, Edgbaston\",\"orientation\":\"v\",\"text\":\"\",\"x\":[2018,2019,2020,2021],\"y\":[669.6,634.1,713.1,698.8],\"type\":\"bar\"},{\"marker\":{\"color\":\"rgba(55, 128, 191, 0.6)\",\"line\":{\"color\":\"rgba(55, 128, 191, 1.0)\",\"width\":1}},\"name\":\"Birmingham, Erdington\",\"orientation\":\"v\",\"text\":\"\",\"x\":[2018,2019,2020,2021],\"y\":[531.6,542.5,533.7,579.4],\"type\":\"bar\"},{\"marker\":{\"color\":\"rgba(50, 171, 96, 0.6)\",\"line\":{\"color\":\"rgba(50, 171, 96, 1.0)\",\"width\":1}},\"name\":\"Birmingham, Hall Green\",\"orientation\":\"v\",\"text\":\"\",\"x\":[2018,2019,2020,2021],\"y\":[630.7,682.8,689.8,723.8],\"type\":\"bar\"},{\"marker\":{\"color\":\"rgba(128, 0, 128, 0.6)\",\"line\":{\"color\":\"rgba(128, 0, 128, 1.0)\",\"width\":1}},\"name\":\"Birmingham, Hodge Hill\",\"orientation\":\"v\",\"text\":\"\",\"x\":[2018,2019,2020,2021],\"y\":[519.0,540.9,543.4,550.7],\"type\":\"bar\"},{\"marker\":{\"color\":\"rgba(219, 64, 82, 0.6)\",\"line\":{\"color\":\"rgba(219, 64, 82, 1.0)\",\"width\":1}},\"name\":\"Birmingham, Ladywood\",\"orientation\":\"v\",\"text\":\"\",\"x\":[2018,2019,2020,2021],\"y\":[676.6,642.0,660.2,646.4],\"type\":\"bar\"},{\"marker\":{\"color\":\"rgba(0, 128, 128, 0.6)\",\"line\":{\"color\":\"rgba(0, 128, 128, 1.0)\",\"width\":1}},\"name\":\"Birmingham, Northfield\",\"orientation\":\"v\",\"text\":\"\",\"x\":[2018,2019,2020,2021],\"y\":[613.4,613.8,604.3,632.1],\"type\":\"bar\"},{\"marker\":{\"color\":\"rgba(255, 255, 51, 0.6)\",\"line\":{\"color\":\"rgba(255, 255, 51, 1.0)\",\"width\":1}},\"name\":\"Birmingham, Perry Barr\",\"orientation\":\"v\",\"text\":\"\",\"x\":[2018,2019,2020,2021],\"y\":[526.7,545.9,597.0,576.9],\"type\":\"bar\"},{\"marker\":{\"color\":\"rgba(128, 128, 0, 0.6)\",\"line\":{\"color\":\"rgba(128, 128, 0, 1.0)\",\"width\":1}},\"name\":\"Birmingham, Selly Oak\",\"orientation\":\"v\",\"text\":\"\",\"x\":[2018,2019,2020,2021],\"y\":[646.9,682.2,690.6,699.1],\"type\":\"bar\"},{\"marker\":{\"color\":\"rgba(251, 128, 114, 0.6)\",\"line\":{\"color\":\"rgba(251, 128, 114, 1.0)\",\"width\":1}},\"name\":\"Birmingham, Yardley\",\"orientation\":\"v\",\"text\":\"\",\"x\":[2018,2019,2020,2021],\"y\":[575.7,554.6,540.7,619.5],\"type\":\"bar\"},{\"marker\":{\"color\":\"rgba(128, 177, 211, 0.6)\",\"line\":{\"color\":\"rgba(128, 177, 211, 1.0)\",\"width\":1}},\"name\":\"Sutton Coldfield\",\"orientation\":\"v\",\"text\":\"\",\"x\":[2018,2019,2020,2021],\"y\":[779.4,788.9,800.5,774.7],\"type\":\"bar\"},{\"marker\":{\"color\":\"rgba(128, 177, 211, 0.6)\",\"line\":{\"color\":\"rgba(128, 177, 211, 0.8999999999999999)\",\"width\":1}},\"name\":\"Birmingham average\",\"orientation\":\"v\",\"text\":\"\",\"x\":[2018,2019,2020,2021],\"y\":[616.9599999999999,622.7699999999999,637.33,650.14],\"type\":\"bar\"},{\"marker\":{\"color\":\"rgba(255, 153, 51, 0.6)\",\"line\":{\"color\":\"rgba(255, 153, 51, 0.8999999999999999)\",\"width\":1}},\"name\":\"UK average\",\"orientation\":\"v\",\"text\":\"\",\"x\":[2018,2019,2020,2021],\"y\":[685.2,703.4,708.1,727.2],\"type\":\"bar\"}],                        {\"legend\":{\"bgcolor\":\"#F5F6F9\",\"font\":{\"color\":\"#4D5663\"}},\"paper_bgcolor\":\"#F5F6F9\",\"plot_bgcolor\":\"#F5F6F9\",\"template\":{\"data\":{\"barpolar\":[{\"marker\":{\"line\":{\"color\":\"#E5ECF6\",\"width\":0.5},\"pattern\":{\"fillmode\":\"overlay\",\"size\":10,\"solidity\":0.2}},\"type\":\"barpolar\"}],\"bar\":[{\"error_x\":{\"color\":\"#2a3f5f\"},\"error_y\":{\"color\":\"#2a3f5f\"},\"marker\":{\"line\":{\"color\":\"#E5ECF6\",\"width\":0.5},\"pattern\":{\"fillmode\":\"overlay\",\"size\":10,\"solidity\":0.2}},\"type\":\"bar\"}],\"carpet\":[{\"aaxis\":{\"endlinecolor\":\"#2a3f5f\",\"gridcolor\":\"white\",\"linecolor\":\"white\",\"minorgridcolor\":\"white\",\"startlinecolor\":\"#2a3f5f\"},\"baxis\":{\"endlinecolor\":\"#2a3f5f\",\"gridcolor\":\"white\",\"linecolor\":\"white\",\"minorgridcolor\":\"white\",\"startlinecolor\":\"#2a3f5f\"},\"type\":\"carpet\"}],\"choropleth\":[{\"colorbar\":{\"outlinewidth\":0,\"ticks\":\"\"},\"type\":\"choropleth\"}],\"contourcarpet\":[{\"colorbar\":{\"outlinewidth\":0,\"ticks\":\"\"},\"type\":\"contourcarpet\"}],\"contour\":[{\"colorbar\":{\"outlinewidth\":0,\"ticks\":\"\"},\"colorscale\":[[0.0,\"#0d0887\"],[0.1111111111111111,\"#46039f\"],[0.2222222222222222,\"#7201a8\"],[0.3333333333333333,\"#9c179e\"],[0.4444444444444444,\"#bd3786\"],[0.5555555555555556,\"#d8576b\"],[0.6666666666666666,\"#ed7953\"],[0.7777777777777778,\"#fb9f3a\"],[0.8888888888888888,\"#fdca26\"],[1.0,\"#f0f921\"]],\"type\":\"contour\"}],\"heatmapgl\":[{\"colorbar\":{\"outlinewidth\":0,\"ticks\":\"\"},\"colorscale\":[[0.0,\"#0d0887\"],[0.1111111111111111,\"#46039f\"],[0.2222222222222222,\"#7201a8\"],[0.3333333333333333,\"#9c179e\"],[0.4444444444444444,\"#bd3786\"],[0.5555555555555556,\"#d8576b\"],[0.6666666666666666,\"#ed7953\"],[0.7777777777777778,\"#fb9f3a\"],[0.8888888888888888,\"#fdca26\"],[1.0,\"#f0f921\"]],\"type\":\"heatmapgl\"}],\"heatmap\":[{\"colorbar\":{\"outlinewidth\":0,\"ticks\":\"\"},\"colorscale\":[[0.0,\"#0d0887\"],[0.1111111111111111,\"#46039f\"],[0.2222222222222222,\"#7201a8\"],[0.3333333333333333,\"#9c179e\"],[0.4444444444444444,\"#bd3786\"],[0.5555555555555556,\"#d8576b\"],[0.6666666666666666,\"#ed7953\"],[0.7777777777777778,\"#fb9f3a\"],[0.8888888888888888,\"#fdca26\"],[1.0,\"#f0f921\"]],\"type\":\"heatmap\"}],\"histogram2dcontour\":[{\"colorbar\":{\"outlinewidth\":0,\"ticks\":\"\"},\"colorscale\":[[0.0,\"#0d0887\"],[0.1111111111111111,\"#46039f\"],[0.2222222222222222,\"#7201a8\"],[0.3333333333333333,\"#9c179e\"],[0.4444444444444444,\"#bd3786\"],[0.5555555555555556,\"#d8576b\"],[0.6666666666666666,\"#ed7953\"],[0.7777777777777778,\"#fb9f3a\"],[0.8888888888888888,\"#fdca26\"],[1.0,\"#f0f921\"]],\"type\":\"histogram2dcontour\"}],\"histogram2d\":[{\"colorbar\":{\"outlinewidth\":0,\"ticks\":\"\"},\"colorscale\":[[0.0,\"#0d0887\"],[0.1111111111111111,\"#46039f\"],[0.2222222222222222,\"#7201a8\"],[0.3333333333333333,\"#9c179e\"],[0.4444444444444444,\"#bd3786\"],[0.5555555555555556,\"#d8576b\"],[0.6666666666666666,\"#ed7953\"],[0.7777777777777778,\"#fb9f3a\"],[0.8888888888888888,\"#fdca26\"],[1.0,\"#f0f921\"]],\"type\":\"histogram2d\"}],\"histogram\":[{\"marker\":{\"pattern\":{\"fillmode\":\"overlay\",\"size\":10,\"solidity\":0.2}},\"type\":\"histogram\"}],\"mesh3d\":[{\"colorbar\":{\"outlinewidth\":0,\"ticks\":\"\"},\"type\":\"mesh3d\"}],\"parcoords\":[{\"line\":{\"colorbar\":{\"outlinewidth\":0,\"ticks\":\"\"}},\"type\":\"parcoords\"}],\"pie\":[{\"automargin\":true,\"type\":\"pie\"}],\"scatter3d\":[{\"line\":{\"colorbar\":{\"outlinewidth\":0,\"ticks\":\"\"}},\"marker\":{\"colorbar\":{\"outlinewidth\":0,\"ticks\":\"\"}},\"type\":\"scatter3d\"}],\"scattercarpet\":[{\"marker\":{\"colorbar\":{\"outlinewidth\":0,\"ticks\":\"\"}},\"type\":\"scattercarpet\"}],\"scattergeo\":[{\"marker\":{\"colorbar\":{\"outlinewidth\":0,\"ticks\":\"\"}},\"type\":\"scattergeo\"}],\"scattergl\":[{\"marker\":{\"colorbar\":{\"outlinewidth\":0,\"ticks\":\"\"}},\"type\":\"scattergl\"}],\"scattermapbox\":[{\"marker\":{\"colorbar\":{\"outlinewidth\":0,\"ticks\":\"\"}},\"type\":\"scattermapbox\"}],\"scatterpolargl\":[{\"marker\":{\"colorbar\":{\"outlinewidth\":0,\"ticks\":\"\"}},\"type\":\"scatterpolargl\"}],\"scatterpolar\":[{\"marker\":{\"colorbar\":{\"outlinewidth\":0,\"ticks\":\"\"}},\"type\":\"scatterpolar\"}],\"scatter\":[{\"marker\":{\"colorbar\":{\"outlinewidth\":0,\"ticks\":\"\"}},\"type\":\"scatter\"}],\"scatterternary\":[{\"marker\":{\"colorbar\":{\"outlinewidth\":0,\"ticks\":\"\"}},\"type\":\"scatterternary\"}],\"surface\":[{\"colorbar\":{\"outlinewidth\":0,\"ticks\":\"\"},\"colorscale\":[[0.0,\"#0d0887\"],[0.1111111111111111,\"#46039f\"],[0.2222222222222222,\"#7201a8\"],[0.3333333333333333,\"#9c179e\"],[0.4444444444444444,\"#bd3786\"],[0.5555555555555556,\"#d8576b\"],[0.6666666666666666,\"#ed7953\"],[0.7777777777777778,\"#fb9f3a\"],[0.8888888888888888,\"#fdca26\"],[1.0,\"#f0f921\"]],\"type\":\"surface\"}],\"table\":[{\"cells\":{\"fill\":{\"color\":\"#EBF0F8\"},\"line\":{\"color\":\"white\"}},\"header\":{\"fill\":{\"color\":\"#C8D4E3\"},\"line\":{\"color\":\"white\"}},\"type\":\"table\"}]},\"layout\":{\"annotationdefaults\":{\"arrowcolor\":\"#2a3f5f\",\"arrowhead\":0,\"arrowwidth\":1},\"autotypenumbers\":\"strict\",\"coloraxis\":{\"colorbar\":{\"outlinewidth\":0,\"ticks\":\"\"}},\"colorscale\":{\"diverging\":[[0,\"#8e0152\"],[0.1,\"#c51b7d\"],[0.2,\"#de77ae\"],[0.3,\"#f1b6da\"],[0.4,\"#fde0ef\"],[0.5,\"#f7f7f7\"],[0.6,\"#e6f5d0\"],[0.7,\"#b8e186\"],[0.8,\"#7fbc41\"],[0.9,\"#4d9221\"],[1,\"#276419\"]],\"sequential\":[[0.0,\"#0d0887\"],[0.1111111111111111,\"#46039f\"],[0.2222222222222222,\"#7201a8\"],[0.3333333333333333,\"#9c179e\"],[0.4444444444444444,\"#bd3786\"],[0.5555555555555556,\"#d8576b\"],[0.6666666666666666,\"#ed7953\"],[0.7777777777777778,\"#fb9f3a\"],[0.8888888888888888,\"#fdca26\"],[1.0,\"#f0f921\"]],\"sequentialminus\":[[0.0,\"#0d0887\"],[0.1111111111111111,\"#46039f\"],[0.2222222222222222,\"#7201a8\"],[0.3333333333333333,\"#9c179e\"],[0.4444444444444444,\"#bd3786\"],[0.5555555555555556,\"#d8576b\"],[0.6666666666666666,\"#ed7953\"],[0.7777777777777778,\"#fb9f3a\"],[0.8888888888888888,\"#fdca26\"],[1.0,\"#f0f921\"]]},\"colorway\":[\"#636efa\",\"#EF553B\",\"#00cc96\",\"#ab63fa\",\"#FFA15A\",\"#19d3f3\",\"#FF6692\",\"#B6E880\",\"#FF97FF\",\"#FECB52\"],\"font\":{\"color\":\"#2a3f5f\"},\"geo\":{\"bgcolor\":\"white\",\"lakecolor\":\"white\",\"landcolor\":\"#E5ECF6\",\"showlakes\":true,\"showland\":true,\"subunitcolor\":\"white\"},\"hoverlabel\":{\"align\":\"left\"},\"hovermode\":\"closest\",\"mapbox\":{\"style\":\"light\"},\"paper_bgcolor\":\"white\",\"plot_bgcolor\":\"#E5ECF6\",\"polar\":{\"angularaxis\":{\"gridcolor\":\"white\",\"linecolor\":\"white\",\"ticks\":\"\"},\"bgcolor\":\"#E5ECF6\",\"radialaxis\":{\"gridcolor\":\"white\",\"linecolor\":\"white\",\"ticks\":\"\"}},\"scene\":{\"xaxis\":{\"backgroundcolor\":\"#E5ECF6\",\"gridcolor\":\"white\",\"gridwidth\":2,\"linecolor\":\"white\",\"showbackground\":true,\"ticks\":\"\",\"zerolinecolor\":\"white\"},\"yaxis\":{\"backgroundcolor\":\"#E5ECF6\",\"gridcolor\":\"white\",\"gridwidth\":2,\"linecolor\":\"white\",\"showbackground\":true,\"ticks\":\"\",\"zerolinecolor\":\"white\"},\"zaxis\":{\"backgroundcolor\":\"#E5ECF6\",\"gridcolor\":\"white\",\"gridwidth\":2,\"linecolor\":\"white\",\"showbackground\":true,\"ticks\":\"\",\"zerolinecolor\":\"white\"}},\"shapedefaults\":{\"line\":{\"color\":\"#2a3f5f\"}},\"ternary\":{\"aaxis\":{\"gridcolor\":\"white\",\"linecolor\":\"white\",\"ticks\":\"\"},\"baxis\":{\"gridcolor\":\"white\",\"linecolor\":\"white\",\"ticks\":\"\"},\"bgcolor\":\"#E5ECF6\",\"caxis\":{\"gridcolor\":\"white\",\"linecolor\":\"white\",\"ticks\":\"\"}},\"title\":{\"x\":0.05},\"xaxis\":{\"automargin\":true,\"gridcolor\":\"white\",\"linecolor\":\"white\",\"ticks\":\"\",\"title\":{\"standoff\":15},\"zerolinecolor\":\"white\",\"zerolinewidth\":2},\"yaxis\":{\"automargin\":true,\"gridcolor\":\"white\",\"linecolor\":\"white\",\"ticks\":\"\",\"title\":{\"standoff\":15},\"zerolinecolor\":\"white\",\"zerolinewidth\":2}}},\"title\":{\"font\":{\"color\":\"#4D5663\"},\"text\":\"Average weekly pay across the parliamentary constituencies\"},\"xaxis\":{\"gridcolor\":\"#E1E5ED\",\"showgrid\":true,\"tickfont\":{\"color\":\"#4D5663\"},\"title\":{\"font\":{\"color\":\"#4D5663\"},\"text\":\"Year\"},\"zerolinecolor\":\"#E1E5ED\"},\"yaxis\":{\"gridcolor\":\"#E1E5ED\",\"showgrid\":true,\"tickfont\":{\"color\":\"#4D5663\"},\"title\":{\"font\":{\"color\":\"#4D5663\"},\"text\":\"Average weekly pay (\\u00a3)\"},\"zerolinecolor\":\"#E1E5ED\"}},                        {\"showLink\": true, \"linkText\": \"Export to plot.ly\", \"plotlyServerURL\": \"https://plot.ly\", \"responsive\": true}                    ).then(function(){\n",
       "                            \n",
       "var gd = document.getElementById('9c3e87ea-1446-43fd-928c-9a0b823ddf32');\n",
       "var x = new MutationObserver(function (mutations, observer) {{\n",
       "        var display = window.getComputedStyle(gd).display;\n",
       "        if (!display || display === 'none') {{\n",
       "            console.log([gd, 'removed!']);\n",
       "            Plotly.purge(gd);\n",
       "            observer.disconnect();\n",
       "        }}\n",
       "}});\n",
       "\n",
       "// Listen for the removal of the full notebook cells\n",
       "var notebookContainer = gd.closest('#notebook-container');\n",
       "if (notebookContainer) {{\n",
       "    x.observe(notebookContainer, {childList: true});\n",
       "}}\n",
       "\n",
       "// Listen for the clearing of the current output cell\n",
       "var outputEl = gd.closest('.output');\n",
       "if (outputEl) {{\n",
       "    x.observe(outputEl, {childList: true});\n",
       "}}\n",
       "\n",
       "                        })                };                });            </script>        </div>"
      ]
     },
     "metadata": {},
     "output_type": "display_data"
    }
   ],
   "source": [
    "df.iplot(kind='bar', xTitle='Year', yTitle='Average weekly pay (£)',\n",
    "         title='Average weekly pay across the parliamentary constituencies')"
   ]
  },
  {
   "cell_type": "code",
   "execution_count": 13,
   "id": "894d45b8",
   "metadata": {
    "scrolled": true
   },
   "outputs": [],
   "source": [
    "df2 = pd.read_excel(\"nomis_claimants_2018_to_2022.xlsx\", sheet_name=1)"
   ]
  },
  {
   "cell_type": "code",
   "execution_count": 14,
   "id": "5937dc9e",
   "metadata": {
    "scrolled": true
   },
   "outputs": [
    {
     "data": {
      "text/html": [
       "<div>\n",
       "<style scoped>\n",
       "    .dataframe tbody tr th:only-of-type {\n",
       "        vertical-align: middle;\n",
       "    }\n",
       "\n",
       "    .dataframe tbody tr th {\n",
       "        vertical-align: top;\n",
       "    }\n",
       "\n",
       "    .dataframe thead th {\n",
       "        text-align: right;\n",
       "    }\n",
       "</style>\n",
       "<table border=\"1\" class=\"dataframe\">\n",
       "  <thead>\n",
       "    <tr style=\"text-align: right;\">\n",
       "      <th>1</th>\n",
       "      <th>Birmingham, Edgbaston</th>\n",
       "      <th>Birmingham, Erdington</th>\n",
       "      <th>Birmingham, Hall Green</th>\n",
       "      <th>Birmingham, Hodge Hill</th>\n",
       "      <th>Birmingham, Ladywood</th>\n",
       "      <th>Birmingham, Northfield</th>\n",
       "      <th>Birmingham, Perry Barr</th>\n",
       "      <th>Birmingham, Selly Oak</th>\n",
       "      <th>Birmingham, Yardley</th>\n",
       "      <th>Sutton Coldfield</th>\n",
       "      <th>Birmingham total</th>\n",
       "    </tr>\n",
       "    <tr>\n",
       "      <th>Year</th>\n",
       "      <th></th>\n",
       "      <th></th>\n",
       "      <th></th>\n",
       "      <th></th>\n",
       "      <th></th>\n",
       "      <th></th>\n",
       "      <th></th>\n",
       "      <th></th>\n",
       "      <th></th>\n",
       "      <th></th>\n",
       "      <th></th>\n",
       "    </tr>\n",
       "  </thead>\n",
       "  <tbody>\n",
       "    <tr>\n",
       "      <th>December 2018</th>\n",
       "      <td>0.034295</td>\n",
       "      <td>0.072222</td>\n",
       "      <td>0.050641</td>\n",
       "      <td>0.067881</td>\n",
       "      <td>0.05878</td>\n",
       "      <td>0.066509</td>\n",
       "      <td>0.04116</td>\n",
       "      <td>0.035061</td>\n",
       "      <td>0.071</td>\n",
       "      <td>0.025</td>\n",
       "      <td>0.051861</td>\n",
       "    </tr>\n",
       "    <tr>\n",
       "      <th>December 2019</th>\n",
       "      <td>0.044097</td>\n",
       "      <td>0.089252</td>\n",
       "      <td>0.087383</td>\n",
       "      <td>0.058081</td>\n",
       "      <td>0.080541</td>\n",
       "      <td>0.125</td>\n",
       "      <td>0.04881</td>\n",
       "      <td>0.033582</td>\n",
       "      <td>0.093617</td>\n",
       "      <td>0.021348</td>\n",
       "      <td>0.062437</td>\n",
       "    </tr>\n",
       "    <tr>\n",
       "      <th>December 2020</th>\n",
       "      <td>0.048913</td>\n",
       "      <td>0.217763</td>\n",
       "      <td>0.171963</td>\n",
       "      <td>0.172556</td>\n",
       "      <td>0.143132</td>\n",
       "      <td>0.203676</td>\n",
       "      <td>0.087065</td>\n",
       "      <td>0.057381</td>\n",
       "      <td>0.329</td>\n",
       "      <td>0.083333</td>\n",
       "      <td>0.121439</td>\n",
       "    </tr>\n",
       "    <tr>\n",
       "      <th>December 2021</th>\n",
       "      <td>0.054248</td>\n",
       "      <td>0.152532</td>\n",
       "      <td>0.073977</td>\n",
       "      <td>0.136667</td>\n",
       "      <td>0.071648</td>\n",
       "      <td>0.065436</td>\n",
       "      <td>0.1375</td>\n",
       "      <td>0.026578</td>\n",
       "      <td>0.123118</td>\n",
       "      <td>0.041935</td>\n",
       "      <td>0.075996</td>\n",
       "    </tr>\n",
       "  </tbody>\n",
       "</table>\n",
       "</div>"
      ],
      "text/plain": [
       "1             Birmingham, Edgbaston Birmingham, Erdington  \\\n",
       "Year                                                        \n",
       "December 2018              0.034295              0.072222   \n",
       "December 2019              0.044097              0.089252   \n",
       "December 2020              0.048913              0.217763   \n",
       "December 2021              0.054248              0.152532   \n",
       "\n",
       "1             Birmingham, Hall Green Birmingham, Hodge Hill  \\\n",
       "Year                                                          \n",
       "December 2018               0.050641               0.067881   \n",
       "December 2019               0.087383               0.058081   \n",
       "December 2020               0.171963               0.172556   \n",
       "December 2021               0.073977               0.136667   \n",
       "\n",
       "1             Birmingham, Ladywood Birmingham, Northfield  \\\n",
       "Year                                                        \n",
       "December 2018              0.05878               0.066509   \n",
       "December 2019             0.080541                  0.125   \n",
       "December 2020             0.143132               0.203676   \n",
       "December 2021             0.071648               0.065436   \n",
       "\n",
       "1             Birmingham, Perry Barr Birmingham, Selly Oak  \\\n",
       "Year                                                         \n",
       "December 2018                0.04116              0.035061   \n",
       "December 2019                0.04881              0.033582   \n",
       "December 2020               0.087065              0.057381   \n",
       "December 2021                 0.1375              0.026578   \n",
       "\n",
       "1             Birmingham, Yardley Sutton Coldfield Birmingham total  \n",
       "Year                                                                 \n",
       "December 2018               0.071            0.025         0.051861  \n",
       "December 2019            0.093617         0.021348         0.062437  \n",
       "December 2020               0.329         0.083333         0.121439  \n",
       "December 2021            0.123118         0.041935         0.075996  "
      ]
     },
     "execution_count": 14,
     "metadata": {},
     "output_type": "execute_result"
    }
   ],
   "source": [
    "df2.columns = df2.iloc[1]\n",
    "df2 = df2[2:]\n",
    "df2 = df2.set_index('Year')\n",
    "# transform values to percentage\n",
    "for col in df2.columns:\n",
    "    x = df2[col].values\n",
    "    df2[col] = df2[col].replace(x, x*100)"
   ]
  },
  {
   "cell_type": "code",
   "execution_count": 19,
   "id": "a5691e7e",
   "metadata": {
    "scrolled": true
   },
   "outputs": [
    {
     "data": {
      "text/html": [
       "<div>\n",
       "<style scoped>\n",
       "    .dataframe tbody tr th:only-of-type {\n",
       "        vertical-align: middle;\n",
       "    }\n",
       "\n",
       "    .dataframe tbody tr th {\n",
       "        vertical-align: top;\n",
       "    }\n",
       "\n",
       "    .dataframe thead th {\n",
       "        text-align: right;\n",
       "    }\n",
       "</style>\n",
       "<table border=\"1\" class=\"dataframe\">\n",
       "  <thead>\n",
       "    <tr style=\"text-align: right;\">\n",
       "      <th>1</th>\n",
       "      <th>Birmingham, Edgbaston</th>\n",
       "      <th>Birmingham, Erdington</th>\n",
       "      <th>Birmingham, Hall Green</th>\n",
       "      <th>Birmingham, Hodge Hill</th>\n",
       "      <th>Birmingham, Ladywood</th>\n",
       "      <th>Birmingham, Northfield</th>\n",
       "      <th>Birmingham, Perry Barr</th>\n",
       "      <th>Birmingham, Selly Oak</th>\n",
       "      <th>Birmingham, Yardley</th>\n",
       "      <th>Sutton Coldfield</th>\n",
       "      <th>Birmingham total</th>\n",
       "    </tr>\n",
       "    <tr>\n",
       "      <th>Year</th>\n",
       "      <th></th>\n",
       "      <th></th>\n",
       "      <th></th>\n",
       "      <th></th>\n",
       "      <th></th>\n",
       "      <th></th>\n",
       "      <th></th>\n",
       "      <th></th>\n",
       "      <th></th>\n",
       "      <th></th>\n",
       "      <th></th>\n",
       "    </tr>\n",
       "  </thead>\n",
       "  <tbody>\n",
       "    <tr>\n",
       "      <th>December 2018</th>\n",
       "      <td>3.429487</td>\n",
       "      <td>7.222222</td>\n",
       "      <td>5.064103</td>\n",
       "      <td>6.788079</td>\n",
       "      <td>5.878049</td>\n",
       "      <td>6.650943</td>\n",
       "      <td>4.116022</td>\n",
       "      <td>3.506098</td>\n",
       "      <td>7.100000</td>\n",
       "      <td>2.500000</td>\n",
       "      <td>5.186113</td>\n",
       "    </tr>\n",
       "    <tr>\n",
       "      <th>December 2019</th>\n",
       "      <td>4.409722</td>\n",
       "      <td>8.925234</td>\n",
       "      <td>8.738318</td>\n",
       "      <td>5.808081</td>\n",
       "      <td>8.054054</td>\n",
       "      <td>12.500000</td>\n",
       "      <td>4.880952</td>\n",
       "      <td>3.358209</td>\n",
       "      <td>9.361702</td>\n",
       "      <td>2.134831</td>\n",
       "      <td>6.243746</td>\n",
       "    </tr>\n",
       "    <tr>\n",
       "      <th>December 2020</th>\n",
       "      <td>4.891304</td>\n",
       "      <td>21.776316</td>\n",
       "      <td>17.196262</td>\n",
       "      <td>17.255639</td>\n",
       "      <td>14.313187</td>\n",
       "      <td>20.367647</td>\n",
       "      <td>8.706468</td>\n",
       "      <td>5.738095</td>\n",
       "      <td>32.900000</td>\n",
       "      <td>8.333333</td>\n",
       "      <td>12.143939</td>\n",
       "    </tr>\n",
       "    <tr>\n",
       "      <th>December 2021</th>\n",
       "      <td>5.424837</td>\n",
       "      <td>15.253165</td>\n",
       "      <td>7.397661</td>\n",
       "      <td>13.666667</td>\n",
       "      <td>7.164751</td>\n",
       "      <td>6.543624</td>\n",
       "      <td>13.750000</td>\n",
       "      <td>2.657807</td>\n",
       "      <td>12.311828</td>\n",
       "      <td>4.193548</td>\n",
       "      <td>7.599595</td>\n",
       "    </tr>\n",
       "  </tbody>\n",
       "</table>\n",
       "</div>"
      ],
      "text/plain": [
       "1              Birmingham, Edgbaston  Birmingham, Erdington  \\\n",
       "Year                                                          \n",
       "December 2018               3.429487               7.222222   \n",
       "December 2019               4.409722               8.925234   \n",
       "December 2020               4.891304              21.776316   \n",
       "December 2021               5.424837              15.253165   \n",
       "\n",
       "1              Birmingham, Hall Green  Birmingham, Hodge Hill  \\\n",
       "Year                                                            \n",
       "December 2018                5.064103                6.788079   \n",
       "December 2019                8.738318                5.808081   \n",
       "December 2020               17.196262               17.255639   \n",
       "December 2021                7.397661               13.666667   \n",
       "\n",
       "1              Birmingham, Ladywood  Birmingham, Northfield  \\\n",
       "Year                                                          \n",
       "December 2018              5.878049                6.650943   \n",
       "December 2019              8.054054               12.500000   \n",
       "December 2020             14.313187               20.367647   \n",
       "December 2021              7.164751                6.543624   \n",
       "\n",
       "1              Birmingham, Perry Barr  Birmingham, Selly Oak  \\\n",
       "Year                                                           \n",
       "December 2018                4.116022               3.506098   \n",
       "December 2019                4.880952               3.358209   \n",
       "December 2020                8.706468               5.738095   \n",
       "December 2021               13.750000               2.657807   \n",
       "\n",
       "1              Birmingham, Yardley  Sutton Coldfield  Birmingham total  \n",
       "Year                                                                    \n",
       "December 2018             7.100000          2.500000          5.186113  \n",
       "December 2019             9.361702          2.134831          6.243746  \n",
       "December 2020            32.900000          8.333333         12.143939  \n",
       "December 2021            12.311828          4.193548          7.599595  "
      ]
     },
     "execution_count": 19,
     "metadata": {},
     "output_type": "execute_result"
    }
   ],
   "source": [
    "df2"
   ]
  },
  {
   "cell_type": "code",
   "execution_count": 49,
   "id": "b6677e02",
   "metadata": {
    "scrolled": true
   },
   "outputs": [
    {
     "data": {
      "application/vnd.plotly.v1+json": {
       "config": {
        "linkText": "Export to plot.ly",
        "plotlyServerURL": "https://plot.ly",
        "showLink": true
       },
       "data": [
        {
         "line": {
          "color": "rgba(255, 153, 51, 1.0)",
          "dash": "solid",
          "shape": "linear",
          "width": 1.3
         },
         "mode": "lines",
         "name": "Birmingham, Edgbaston",
         "text": "",
         "type": "scatter",
         "x": [
          "December 2018",
          "December 2019",
          "December 2020",
          "December 2021"
         ],
         "y": [
          3.4294871794871797,
          4.409722222222222,
          4.891304347826087,
          5.42483660130719
         ]
        },
        {
         "line": {
          "color": "rgba(55, 128, 191, 1.0)",
          "dash": "solid",
          "shape": "linear",
          "width": 1.3
         },
         "mode": "lines",
         "name": "Birmingham, Erdington",
         "text": "",
         "type": "scatter",
         "x": [
          "December 2018",
          "December 2019",
          "December 2020",
          "December 2021"
         ],
         "y": [
          7.222222222222221,
          8.925233644859814,
          21.776315789473685,
          15.253164556962027
         ]
        },
        {
         "line": {
          "color": "rgba(50, 171, 96, 1.0)",
          "dash": "solid",
          "shape": "linear",
          "width": 1.3
         },
         "mode": "lines",
         "name": "Birmingham, Hall Green",
         "text": "",
         "type": "scatter",
         "x": [
          "December 2018",
          "December 2019",
          "December 2020",
          "December 2021"
         ],
         "y": [
          5.064102564102564,
          8.738317757009346,
          17.19626168224299,
          7.39766081871345
         ]
        },
        {
         "line": {
          "color": "rgba(128, 0, 128, 1.0)",
          "dash": "solid",
          "shape": "linear",
          "width": 1.3
         },
         "mode": "lines",
         "name": "Birmingham, Hodge Hill",
         "text": "",
         "type": "scatter",
         "x": [
          "December 2018",
          "December 2019",
          "December 2020",
          "December 2021"
         ],
         "y": [
          6.788079470198675,
          5.808080808080808,
          17.25563909774436,
          13.666666666666666
         ]
        },
        {
         "line": {
          "color": "rgba(219, 64, 82, 1.0)",
          "dash": "solid",
          "shape": "linear",
          "width": 1.3
         },
         "mode": "lines",
         "name": "Birmingham, Ladywood",
         "text": "",
         "type": "scatter",
         "x": [
          "December 2018",
          "December 2019",
          "December 2020",
          "December 2021"
         ],
         "y": [
          5.878048780487805,
          8.054054054054054,
          14.313186813186812,
          7.164750957854406
         ]
        },
        {
         "line": {
          "color": "rgba(0, 128, 128, 1.0)",
          "dash": "solid",
          "shape": "linear",
          "width": 1.3
         },
         "mode": "lines",
         "name": "Birmingham, Northfield",
         "text": "",
         "type": "scatter",
         "x": [
          "December 2018",
          "December 2019",
          "December 2020",
          "December 2021"
         ],
         "y": [
          6.650943396226415,
          12.5,
          20.36764705882353,
          6.543624161073826
         ]
        },
        {
         "line": {
          "color": "rgba(255, 255, 51, 1.0)",
          "dash": "solid",
          "shape": "linear",
          "width": 1.3
         },
         "mode": "lines",
         "name": "Birmingham, Perry Barr",
         "text": "",
         "type": "scatter",
         "x": [
          "December 2018",
          "December 2019",
          "December 2020",
          "December 2021"
         ],
         "y": [
          4.116022099447514,
          4.880952380952381,
          8.706467661691542,
          13.750000000000002
         ]
        },
        {
         "line": {
          "color": "rgba(128, 128, 0, 1.0)",
          "dash": "solid",
          "shape": "linear",
          "width": 1.3
         },
         "mode": "lines",
         "name": "Birmingham, Selly Oak",
         "text": "",
         "type": "scatter",
         "x": [
          "December 2018",
          "December 2019",
          "December 2020",
          "December 2021"
         ],
         "y": [
          3.50609756097561,
          3.3582089552238807,
          5.738095238095238,
          2.6578073089700998
         ]
        },
        {
         "line": {
          "color": "rgba(251, 128, 114, 1.0)",
          "dash": "solid",
          "shape": "linear",
          "width": 1.3
         },
         "mode": "lines",
         "name": "Birmingham, Yardley",
         "text": "",
         "type": "scatter",
         "x": [
          "December 2018",
          "December 2019",
          "December 2020",
          "December 2021"
         ],
         "y": [
          7.1,
          9.361702127659575,
          32.9,
          12.311827956989248
         ]
        },
        {
         "line": {
          "color": "rgba(128, 177, 211, 1.0)",
          "dash": "solid",
          "shape": "linear",
          "width": 1.3
         },
         "mode": "lines",
         "name": "Sutton Coldfield",
         "text": "",
         "type": "scatter",
         "x": [
          "December 2018",
          "December 2019",
          "December 2020",
          "December 2021"
         ],
         "y": [
          2.5,
          2.134831460674157,
          8.333333333333332,
          4.193548387096775
         ]
        },
        {
         "line": {
          "color": "rgba(128, 177, 211, 0.8999999999999999)",
          "dash": "solid",
          "shape": "linear",
          "width": 1.3
         },
         "mode": "lines",
         "name": "Birmingham total",
         "text": "",
         "type": "scatter",
         "x": [
          "December 2018",
          "December 2019",
          "December 2020",
          "December 2021"
         ],
         "y": [
          5.186113099498926,
          6.2437455325232305,
          12.143939393939394,
          7.599594868332208
         ]
        }
       ],
       "layout": {
        "legend": {
         "bgcolor": "#F5F6F9",
         "font": {
          "color": "#4D5663"
         }
        },
        "paper_bgcolor": "#F5F6F9",
        "plot_bgcolor": "#F5F6F9",
        "template": {
         "data": {
          "bar": [
           {
            "error_x": {
             "color": "#2a3f5f"
            },
            "error_y": {
             "color": "#2a3f5f"
            },
            "marker": {
             "line": {
              "color": "#E5ECF6",
              "width": 0.5
             },
             "pattern": {
              "fillmode": "overlay",
              "size": 10,
              "solidity": 0.2
             }
            },
            "type": "bar"
           }
          ],
          "barpolar": [
           {
            "marker": {
             "line": {
              "color": "#E5ECF6",
              "width": 0.5
             },
             "pattern": {
              "fillmode": "overlay",
              "size": 10,
              "solidity": 0.2
             }
            },
            "type": "barpolar"
           }
          ],
          "carpet": [
           {
            "aaxis": {
             "endlinecolor": "#2a3f5f",
             "gridcolor": "white",
             "linecolor": "white",
             "minorgridcolor": "white",
             "startlinecolor": "#2a3f5f"
            },
            "baxis": {
             "endlinecolor": "#2a3f5f",
             "gridcolor": "white",
             "linecolor": "white",
             "minorgridcolor": "white",
             "startlinecolor": "#2a3f5f"
            },
            "type": "carpet"
           }
          ],
          "choropleth": [
           {
            "colorbar": {
             "outlinewidth": 0,
             "ticks": ""
            },
            "type": "choropleth"
           }
          ],
          "contour": [
           {
            "colorbar": {
             "outlinewidth": 0,
             "ticks": ""
            },
            "colorscale": [
             [
              0,
              "#0d0887"
             ],
             [
              0.1111111111111111,
              "#46039f"
             ],
             [
              0.2222222222222222,
              "#7201a8"
             ],
             [
              0.3333333333333333,
              "#9c179e"
             ],
             [
              0.4444444444444444,
              "#bd3786"
             ],
             [
              0.5555555555555556,
              "#d8576b"
             ],
             [
              0.6666666666666666,
              "#ed7953"
             ],
             [
              0.7777777777777778,
              "#fb9f3a"
             ],
             [
              0.8888888888888888,
              "#fdca26"
             ],
             [
              1,
              "#f0f921"
             ]
            ],
            "type": "contour"
           }
          ],
          "contourcarpet": [
           {
            "colorbar": {
             "outlinewidth": 0,
             "ticks": ""
            },
            "type": "contourcarpet"
           }
          ],
          "heatmap": [
           {
            "colorbar": {
             "outlinewidth": 0,
             "ticks": ""
            },
            "colorscale": [
             [
              0,
              "#0d0887"
             ],
             [
              0.1111111111111111,
              "#46039f"
             ],
             [
              0.2222222222222222,
              "#7201a8"
             ],
             [
              0.3333333333333333,
              "#9c179e"
             ],
             [
              0.4444444444444444,
              "#bd3786"
             ],
             [
              0.5555555555555556,
              "#d8576b"
             ],
             [
              0.6666666666666666,
              "#ed7953"
             ],
             [
              0.7777777777777778,
              "#fb9f3a"
             ],
             [
              0.8888888888888888,
              "#fdca26"
             ],
             [
              1,
              "#f0f921"
             ]
            ],
            "type": "heatmap"
           }
          ],
          "heatmapgl": [
           {
            "colorbar": {
             "outlinewidth": 0,
             "ticks": ""
            },
            "colorscale": [
             [
              0,
              "#0d0887"
             ],
             [
              0.1111111111111111,
              "#46039f"
             ],
             [
              0.2222222222222222,
              "#7201a8"
             ],
             [
              0.3333333333333333,
              "#9c179e"
             ],
             [
              0.4444444444444444,
              "#bd3786"
             ],
             [
              0.5555555555555556,
              "#d8576b"
             ],
             [
              0.6666666666666666,
              "#ed7953"
             ],
             [
              0.7777777777777778,
              "#fb9f3a"
             ],
             [
              0.8888888888888888,
              "#fdca26"
             ],
             [
              1,
              "#f0f921"
             ]
            ],
            "type": "heatmapgl"
           }
          ],
          "histogram": [
           {
            "marker": {
             "pattern": {
              "fillmode": "overlay",
              "size": 10,
              "solidity": 0.2
             }
            },
            "type": "histogram"
           }
          ],
          "histogram2d": [
           {
            "colorbar": {
             "outlinewidth": 0,
             "ticks": ""
            },
            "colorscale": [
             [
              0,
              "#0d0887"
             ],
             [
              0.1111111111111111,
              "#46039f"
             ],
             [
              0.2222222222222222,
              "#7201a8"
             ],
             [
              0.3333333333333333,
              "#9c179e"
             ],
             [
              0.4444444444444444,
              "#bd3786"
             ],
             [
              0.5555555555555556,
              "#d8576b"
             ],
             [
              0.6666666666666666,
              "#ed7953"
             ],
             [
              0.7777777777777778,
              "#fb9f3a"
             ],
             [
              0.8888888888888888,
              "#fdca26"
             ],
             [
              1,
              "#f0f921"
             ]
            ],
            "type": "histogram2d"
           }
          ],
          "histogram2dcontour": [
           {
            "colorbar": {
             "outlinewidth": 0,
             "ticks": ""
            },
            "colorscale": [
             [
              0,
              "#0d0887"
             ],
             [
              0.1111111111111111,
              "#46039f"
             ],
             [
              0.2222222222222222,
              "#7201a8"
             ],
             [
              0.3333333333333333,
              "#9c179e"
             ],
             [
              0.4444444444444444,
              "#bd3786"
             ],
             [
              0.5555555555555556,
              "#d8576b"
             ],
             [
              0.6666666666666666,
              "#ed7953"
             ],
             [
              0.7777777777777778,
              "#fb9f3a"
             ],
             [
              0.8888888888888888,
              "#fdca26"
             ],
             [
              1,
              "#f0f921"
             ]
            ],
            "type": "histogram2dcontour"
           }
          ],
          "mesh3d": [
           {
            "colorbar": {
             "outlinewidth": 0,
             "ticks": ""
            },
            "type": "mesh3d"
           }
          ],
          "parcoords": [
           {
            "line": {
             "colorbar": {
              "outlinewidth": 0,
              "ticks": ""
             }
            },
            "type": "parcoords"
           }
          ],
          "pie": [
           {
            "automargin": true,
            "type": "pie"
           }
          ],
          "scatter": [
           {
            "marker": {
             "colorbar": {
              "outlinewidth": 0,
              "ticks": ""
             }
            },
            "type": "scatter"
           }
          ],
          "scatter3d": [
           {
            "line": {
             "colorbar": {
              "outlinewidth": 0,
              "ticks": ""
             }
            },
            "marker": {
             "colorbar": {
              "outlinewidth": 0,
              "ticks": ""
             }
            },
            "type": "scatter3d"
           }
          ],
          "scattercarpet": [
           {
            "marker": {
             "colorbar": {
              "outlinewidth": 0,
              "ticks": ""
             }
            },
            "type": "scattercarpet"
           }
          ],
          "scattergeo": [
           {
            "marker": {
             "colorbar": {
              "outlinewidth": 0,
              "ticks": ""
             }
            },
            "type": "scattergeo"
           }
          ],
          "scattergl": [
           {
            "marker": {
             "colorbar": {
              "outlinewidth": 0,
              "ticks": ""
             }
            },
            "type": "scattergl"
           }
          ],
          "scattermapbox": [
           {
            "marker": {
             "colorbar": {
              "outlinewidth": 0,
              "ticks": ""
             }
            },
            "type": "scattermapbox"
           }
          ],
          "scatterpolar": [
           {
            "marker": {
             "colorbar": {
              "outlinewidth": 0,
              "ticks": ""
             }
            },
            "type": "scatterpolar"
           }
          ],
          "scatterpolargl": [
           {
            "marker": {
             "colorbar": {
              "outlinewidth": 0,
              "ticks": ""
             }
            },
            "type": "scatterpolargl"
           }
          ],
          "scatterternary": [
           {
            "marker": {
             "colorbar": {
              "outlinewidth": 0,
              "ticks": ""
             }
            },
            "type": "scatterternary"
           }
          ],
          "surface": [
           {
            "colorbar": {
             "outlinewidth": 0,
             "ticks": ""
            },
            "colorscale": [
             [
              0,
              "#0d0887"
             ],
             [
              0.1111111111111111,
              "#46039f"
             ],
             [
              0.2222222222222222,
              "#7201a8"
             ],
             [
              0.3333333333333333,
              "#9c179e"
             ],
             [
              0.4444444444444444,
              "#bd3786"
             ],
             [
              0.5555555555555556,
              "#d8576b"
             ],
             [
              0.6666666666666666,
              "#ed7953"
             ],
             [
              0.7777777777777778,
              "#fb9f3a"
             ],
             [
              0.8888888888888888,
              "#fdca26"
             ],
             [
              1,
              "#f0f921"
             ]
            ],
            "type": "surface"
           }
          ],
          "table": [
           {
            "cells": {
             "fill": {
              "color": "#EBF0F8"
             },
             "line": {
              "color": "white"
             }
            },
            "header": {
             "fill": {
              "color": "#C8D4E3"
             },
             "line": {
              "color": "white"
             }
            },
            "type": "table"
           }
          ]
         },
         "layout": {
          "annotationdefaults": {
           "arrowcolor": "#2a3f5f",
           "arrowhead": 0,
           "arrowwidth": 1
          },
          "autotypenumbers": "strict",
          "coloraxis": {
           "colorbar": {
            "outlinewidth": 0,
            "ticks": ""
           }
          },
          "colorscale": {
           "diverging": [
            [
             0,
             "#8e0152"
            ],
            [
             0.1,
             "#c51b7d"
            ],
            [
             0.2,
             "#de77ae"
            ],
            [
             0.3,
             "#f1b6da"
            ],
            [
             0.4,
             "#fde0ef"
            ],
            [
             0.5,
             "#f7f7f7"
            ],
            [
             0.6,
             "#e6f5d0"
            ],
            [
             0.7,
             "#b8e186"
            ],
            [
             0.8,
             "#7fbc41"
            ],
            [
             0.9,
             "#4d9221"
            ],
            [
             1,
             "#276419"
            ]
           ],
           "sequential": [
            [
             0,
             "#0d0887"
            ],
            [
             0.1111111111111111,
             "#46039f"
            ],
            [
             0.2222222222222222,
             "#7201a8"
            ],
            [
             0.3333333333333333,
             "#9c179e"
            ],
            [
             0.4444444444444444,
             "#bd3786"
            ],
            [
             0.5555555555555556,
             "#d8576b"
            ],
            [
             0.6666666666666666,
             "#ed7953"
            ],
            [
             0.7777777777777778,
             "#fb9f3a"
            ],
            [
             0.8888888888888888,
             "#fdca26"
            ],
            [
             1,
             "#f0f921"
            ]
           ],
           "sequentialminus": [
            [
             0,
             "#0d0887"
            ],
            [
             0.1111111111111111,
             "#46039f"
            ],
            [
             0.2222222222222222,
             "#7201a8"
            ],
            [
             0.3333333333333333,
             "#9c179e"
            ],
            [
             0.4444444444444444,
             "#bd3786"
            ],
            [
             0.5555555555555556,
             "#d8576b"
            ],
            [
             0.6666666666666666,
             "#ed7953"
            ],
            [
             0.7777777777777778,
             "#fb9f3a"
            ],
            [
             0.8888888888888888,
             "#fdca26"
            ],
            [
             1,
             "#f0f921"
            ]
           ]
          },
          "colorway": [
           "#636efa",
           "#EF553B",
           "#00cc96",
           "#ab63fa",
           "#FFA15A",
           "#19d3f3",
           "#FF6692",
           "#B6E880",
           "#FF97FF",
           "#FECB52"
          ],
          "font": {
           "color": "#2a3f5f"
          },
          "geo": {
           "bgcolor": "white",
           "lakecolor": "white",
           "landcolor": "#E5ECF6",
           "showlakes": true,
           "showland": true,
           "subunitcolor": "white"
          },
          "hoverlabel": {
           "align": "left"
          },
          "hovermode": "closest",
          "mapbox": {
           "style": "light"
          },
          "paper_bgcolor": "white",
          "plot_bgcolor": "#E5ECF6",
          "polar": {
           "angularaxis": {
            "gridcolor": "white",
            "linecolor": "white",
            "ticks": ""
           },
           "bgcolor": "#E5ECF6",
           "radialaxis": {
            "gridcolor": "white",
            "linecolor": "white",
            "ticks": ""
           }
          },
          "scene": {
           "xaxis": {
            "backgroundcolor": "#E5ECF6",
            "gridcolor": "white",
            "gridwidth": 2,
            "linecolor": "white",
            "showbackground": true,
            "ticks": "",
            "zerolinecolor": "white"
           },
           "yaxis": {
            "backgroundcolor": "#E5ECF6",
            "gridcolor": "white",
            "gridwidth": 2,
            "linecolor": "white",
            "showbackground": true,
            "ticks": "",
            "zerolinecolor": "white"
           },
           "zaxis": {
            "backgroundcolor": "#E5ECF6",
            "gridcolor": "white",
            "gridwidth": 2,
            "linecolor": "white",
            "showbackground": true,
            "ticks": "",
            "zerolinecolor": "white"
           }
          },
          "shapedefaults": {
           "line": {
            "color": "#2a3f5f"
           }
          },
          "ternary": {
           "aaxis": {
            "gridcolor": "white",
            "linecolor": "white",
            "ticks": ""
           },
           "baxis": {
            "gridcolor": "white",
            "linecolor": "white",
            "ticks": ""
           },
           "bgcolor": "#E5ECF6",
           "caxis": {
            "gridcolor": "white",
            "linecolor": "white",
            "ticks": ""
           }
          },
          "title": {
           "x": 0.05
          },
          "xaxis": {
           "automargin": true,
           "gridcolor": "white",
           "linecolor": "white",
           "ticks": "",
           "title": {
            "standoff": 15
           },
           "zerolinecolor": "white",
           "zerolinewidth": 2
          },
          "yaxis": {
           "automargin": true,
           "gridcolor": "white",
           "linecolor": "white",
           "ticks": "",
           "title": {
            "standoff": 15
           },
           "zerolinecolor": "white",
           "zerolinewidth": 2
          }
         }
        },
        "title": {
         "font": {
          "color": "#4D5663"
         },
         "text": "16-24 claimant count as a proportion of 16-24 population"
        },
        "xaxis": {
         "gridcolor": "#E1E5ED",
         "showgrid": true,
         "tickfont": {
          "color": "#4D5663"
         },
         "title": {
          "font": {
           "color": "#4D5663"
          },
          "text": "Date"
         },
         "zerolinecolor": "#E1E5ED"
        },
        "yaxis": {
         "gridcolor": "#E1E5ED",
         "showgrid": true,
         "tickfont": {
          "color": "#4D5663"
         },
         "title": {
          "font": {
           "color": "#4D5663"
          },
          "text": "Claimant proportion (%)"
         },
         "zerolinecolor": "#E1E5ED"
        }
       }
      },
      "text/html": [
       "<div>                            <div id=\"e7a82462-fa90-4748-b406-e571f9c4e583\" class=\"plotly-graph-div\" style=\"height:525px; width:100%;\"></div>            <script type=\"text/javascript\">                require([\"plotly\"], function(Plotly) {                    window.PLOTLYENV=window.PLOTLYENV || {};\n",
       "                    window.PLOTLYENV.BASE_URL='https://plot.ly';                                    if (document.getElementById(\"e7a82462-fa90-4748-b406-e571f9c4e583\")) {                    Plotly.newPlot(                        \"e7a82462-fa90-4748-b406-e571f9c4e583\",                        [{\"line\":{\"color\":\"rgba(255, 153, 51, 1.0)\",\"dash\":\"solid\",\"shape\":\"linear\",\"width\":1.3},\"mode\":\"lines\",\"name\":\"Birmingham, Edgbaston\",\"text\":\"\",\"x\":[\"December 2018\",\"December 2019\",\"December 2020\",\"December 2021\"],\"y\":[3.4294871794871797,4.409722222222222,4.891304347826087,5.42483660130719],\"type\":\"scatter\"},{\"line\":{\"color\":\"rgba(55, 128, 191, 1.0)\",\"dash\":\"solid\",\"shape\":\"linear\",\"width\":1.3},\"mode\":\"lines\",\"name\":\"Birmingham, Erdington\",\"text\":\"\",\"x\":[\"December 2018\",\"December 2019\",\"December 2020\",\"December 2021\"],\"y\":[7.222222222222221,8.925233644859814,21.776315789473685,15.253164556962027],\"type\":\"scatter\"},{\"line\":{\"color\":\"rgba(50, 171, 96, 1.0)\",\"dash\":\"solid\",\"shape\":\"linear\",\"width\":1.3},\"mode\":\"lines\",\"name\":\"Birmingham, Hall Green\",\"text\":\"\",\"x\":[\"December 2018\",\"December 2019\",\"December 2020\",\"December 2021\"],\"y\":[5.064102564102564,8.738317757009346,17.19626168224299,7.39766081871345],\"type\":\"scatter\"},{\"line\":{\"color\":\"rgba(128, 0, 128, 1.0)\",\"dash\":\"solid\",\"shape\":\"linear\",\"width\":1.3},\"mode\":\"lines\",\"name\":\"Birmingham, Hodge Hill\",\"text\":\"\",\"x\":[\"December 2018\",\"December 2019\",\"December 2020\",\"December 2021\"],\"y\":[6.788079470198675,5.808080808080808,17.25563909774436,13.666666666666666],\"type\":\"scatter\"},{\"line\":{\"color\":\"rgba(219, 64, 82, 1.0)\",\"dash\":\"solid\",\"shape\":\"linear\",\"width\":1.3},\"mode\":\"lines\",\"name\":\"Birmingham, Ladywood\",\"text\":\"\",\"x\":[\"December 2018\",\"December 2019\",\"December 2020\",\"December 2021\"],\"y\":[5.878048780487805,8.054054054054054,14.313186813186812,7.164750957854406],\"type\":\"scatter\"},{\"line\":{\"color\":\"rgba(0, 128, 128, 1.0)\",\"dash\":\"solid\",\"shape\":\"linear\",\"width\":1.3},\"mode\":\"lines\",\"name\":\"Birmingham, Northfield\",\"text\":\"\",\"x\":[\"December 2018\",\"December 2019\",\"December 2020\",\"December 2021\"],\"y\":[6.650943396226415,12.5,20.36764705882353,6.543624161073826],\"type\":\"scatter\"},{\"line\":{\"color\":\"rgba(255, 255, 51, 1.0)\",\"dash\":\"solid\",\"shape\":\"linear\",\"width\":1.3},\"mode\":\"lines\",\"name\":\"Birmingham, Perry Barr\",\"text\":\"\",\"x\":[\"December 2018\",\"December 2019\",\"December 2020\",\"December 2021\"],\"y\":[4.116022099447514,4.880952380952381,8.706467661691542,13.750000000000002],\"type\":\"scatter\"},{\"line\":{\"color\":\"rgba(128, 128, 0, 1.0)\",\"dash\":\"solid\",\"shape\":\"linear\",\"width\":1.3},\"mode\":\"lines\",\"name\":\"Birmingham, Selly Oak\",\"text\":\"\",\"x\":[\"December 2018\",\"December 2019\",\"December 2020\",\"December 2021\"],\"y\":[3.50609756097561,3.3582089552238807,5.738095238095238,2.6578073089700998],\"type\":\"scatter\"},{\"line\":{\"color\":\"rgba(251, 128, 114, 1.0)\",\"dash\":\"solid\",\"shape\":\"linear\",\"width\":1.3},\"mode\":\"lines\",\"name\":\"Birmingham, Yardley\",\"text\":\"\",\"x\":[\"December 2018\",\"December 2019\",\"December 2020\",\"December 2021\"],\"y\":[7.1,9.361702127659575,32.9,12.311827956989248],\"type\":\"scatter\"},{\"line\":{\"color\":\"rgba(128, 177, 211, 1.0)\",\"dash\":\"solid\",\"shape\":\"linear\",\"width\":1.3},\"mode\":\"lines\",\"name\":\"Sutton Coldfield\",\"text\":\"\",\"x\":[\"December 2018\",\"December 2019\",\"December 2020\",\"December 2021\"],\"y\":[2.5,2.134831460674157,8.333333333333332,4.193548387096775],\"type\":\"scatter\"},{\"line\":{\"color\":\"rgba(128, 177, 211, 0.8999999999999999)\",\"dash\":\"solid\",\"shape\":\"linear\",\"width\":1.3},\"mode\":\"lines\",\"name\":\"Birmingham total\",\"text\":\"\",\"x\":[\"December 2018\",\"December 2019\",\"December 2020\",\"December 2021\"],\"y\":[5.186113099498926,6.2437455325232305,12.143939393939394,7.599594868332208],\"type\":\"scatter\"}],                        {\"legend\":{\"bgcolor\":\"#F5F6F9\",\"font\":{\"color\":\"#4D5663\"}},\"paper_bgcolor\":\"#F5F6F9\",\"plot_bgcolor\":\"#F5F6F9\",\"template\":{\"data\":{\"barpolar\":[{\"marker\":{\"line\":{\"color\":\"#E5ECF6\",\"width\":0.5},\"pattern\":{\"fillmode\":\"overlay\",\"size\":10,\"solidity\":0.2}},\"type\":\"barpolar\"}],\"bar\":[{\"error_x\":{\"color\":\"#2a3f5f\"},\"error_y\":{\"color\":\"#2a3f5f\"},\"marker\":{\"line\":{\"color\":\"#E5ECF6\",\"width\":0.5},\"pattern\":{\"fillmode\":\"overlay\",\"size\":10,\"solidity\":0.2}},\"type\":\"bar\"}],\"carpet\":[{\"aaxis\":{\"endlinecolor\":\"#2a3f5f\",\"gridcolor\":\"white\",\"linecolor\":\"white\",\"minorgridcolor\":\"white\",\"startlinecolor\":\"#2a3f5f\"},\"baxis\":{\"endlinecolor\":\"#2a3f5f\",\"gridcolor\":\"white\",\"linecolor\":\"white\",\"minorgridcolor\":\"white\",\"startlinecolor\":\"#2a3f5f\"},\"type\":\"carpet\"}],\"choropleth\":[{\"colorbar\":{\"outlinewidth\":0,\"ticks\":\"\"},\"type\":\"choropleth\"}],\"contourcarpet\":[{\"colorbar\":{\"outlinewidth\":0,\"ticks\":\"\"},\"type\":\"contourcarpet\"}],\"contour\":[{\"colorbar\":{\"outlinewidth\":0,\"ticks\":\"\"},\"colorscale\":[[0.0,\"#0d0887\"],[0.1111111111111111,\"#46039f\"],[0.2222222222222222,\"#7201a8\"],[0.3333333333333333,\"#9c179e\"],[0.4444444444444444,\"#bd3786\"],[0.5555555555555556,\"#d8576b\"],[0.6666666666666666,\"#ed7953\"],[0.7777777777777778,\"#fb9f3a\"],[0.8888888888888888,\"#fdca26\"],[1.0,\"#f0f921\"]],\"type\":\"contour\"}],\"heatmapgl\":[{\"colorbar\":{\"outlinewidth\":0,\"ticks\":\"\"},\"colorscale\":[[0.0,\"#0d0887\"],[0.1111111111111111,\"#46039f\"],[0.2222222222222222,\"#7201a8\"],[0.3333333333333333,\"#9c179e\"],[0.4444444444444444,\"#bd3786\"],[0.5555555555555556,\"#d8576b\"],[0.6666666666666666,\"#ed7953\"],[0.7777777777777778,\"#fb9f3a\"],[0.8888888888888888,\"#fdca26\"],[1.0,\"#f0f921\"]],\"type\":\"heatmapgl\"}],\"heatmap\":[{\"colorbar\":{\"outlinewidth\":0,\"ticks\":\"\"},\"colorscale\":[[0.0,\"#0d0887\"],[0.1111111111111111,\"#46039f\"],[0.2222222222222222,\"#7201a8\"],[0.3333333333333333,\"#9c179e\"],[0.4444444444444444,\"#bd3786\"],[0.5555555555555556,\"#d8576b\"],[0.6666666666666666,\"#ed7953\"],[0.7777777777777778,\"#fb9f3a\"],[0.8888888888888888,\"#fdca26\"],[1.0,\"#f0f921\"]],\"type\":\"heatmap\"}],\"histogram2dcontour\":[{\"colorbar\":{\"outlinewidth\":0,\"ticks\":\"\"},\"colorscale\":[[0.0,\"#0d0887\"],[0.1111111111111111,\"#46039f\"],[0.2222222222222222,\"#7201a8\"],[0.3333333333333333,\"#9c179e\"],[0.4444444444444444,\"#bd3786\"],[0.5555555555555556,\"#d8576b\"],[0.6666666666666666,\"#ed7953\"],[0.7777777777777778,\"#fb9f3a\"],[0.8888888888888888,\"#fdca26\"],[1.0,\"#f0f921\"]],\"type\":\"histogram2dcontour\"}],\"histogram2d\":[{\"colorbar\":{\"outlinewidth\":0,\"ticks\":\"\"},\"colorscale\":[[0.0,\"#0d0887\"],[0.1111111111111111,\"#46039f\"],[0.2222222222222222,\"#7201a8\"],[0.3333333333333333,\"#9c179e\"],[0.4444444444444444,\"#bd3786\"],[0.5555555555555556,\"#d8576b\"],[0.6666666666666666,\"#ed7953\"],[0.7777777777777778,\"#fb9f3a\"],[0.8888888888888888,\"#fdca26\"],[1.0,\"#f0f921\"]],\"type\":\"histogram2d\"}],\"histogram\":[{\"marker\":{\"pattern\":{\"fillmode\":\"overlay\",\"size\":10,\"solidity\":0.2}},\"type\":\"histogram\"}],\"mesh3d\":[{\"colorbar\":{\"outlinewidth\":0,\"ticks\":\"\"},\"type\":\"mesh3d\"}],\"parcoords\":[{\"line\":{\"colorbar\":{\"outlinewidth\":0,\"ticks\":\"\"}},\"type\":\"parcoords\"}],\"pie\":[{\"automargin\":true,\"type\":\"pie\"}],\"scatter3d\":[{\"line\":{\"colorbar\":{\"outlinewidth\":0,\"ticks\":\"\"}},\"marker\":{\"colorbar\":{\"outlinewidth\":0,\"ticks\":\"\"}},\"type\":\"scatter3d\"}],\"scattercarpet\":[{\"marker\":{\"colorbar\":{\"outlinewidth\":0,\"ticks\":\"\"}},\"type\":\"scattercarpet\"}],\"scattergeo\":[{\"marker\":{\"colorbar\":{\"outlinewidth\":0,\"ticks\":\"\"}},\"type\":\"scattergeo\"}],\"scattergl\":[{\"marker\":{\"colorbar\":{\"outlinewidth\":0,\"ticks\":\"\"}},\"type\":\"scattergl\"}],\"scattermapbox\":[{\"marker\":{\"colorbar\":{\"outlinewidth\":0,\"ticks\":\"\"}},\"type\":\"scattermapbox\"}],\"scatterpolargl\":[{\"marker\":{\"colorbar\":{\"outlinewidth\":0,\"ticks\":\"\"}},\"type\":\"scatterpolargl\"}],\"scatterpolar\":[{\"marker\":{\"colorbar\":{\"outlinewidth\":0,\"ticks\":\"\"}},\"type\":\"scatterpolar\"}],\"scatter\":[{\"marker\":{\"colorbar\":{\"outlinewidth\":0,\"ticks\":\"\"}},\"type\":\"scatter\"}],\"scatterternary\":[{\"marker\":{\"colorbar\":{\"outlinewidth\":0,\"ticks\":\"\"}},\"type\":\"scatterternary\"}],\"surface\":[{\"colorbar\":{\"outlinewidth\":0,\"ticks\":\"\"},\"colorscale\":[[0.0,\"#0d0887\"],[0.1111111111111111,\"#46039f\"],[0.2222222222222222,\"#7201a8\"],[0.3333333333333333,\"#9c179e\"],[0.4444444444444444,\"#bd3786\"],[0.5555555555555556,\"#d8576b\"],[0.6666666666666666,\"#ed7953\"],[0.7777777777777778,\"#fb9f3a\"],[0.8888888888888888,\"#fdca26\"],[1.0,\"#f0f921\"]],\"type\":\"surface\"}],\"table\":[{\"cells\":{\"fill\":{\"color\":\"#EBF0F8\"},\"line\":{\"color\":\"white\"}},\"header\":{\"fill\":{\"color\":\"#C8D4E3\"},\"line\":{\"color\":\"white\"}},\"type\":\"table\"}]},\"layout\":{\"annotationdefaults\":{\"arrowcolor\":\"#2a3f5f\",\"arrowhead\":0,\"arrowwidth\":1},\"autotypenumbers\":\"strict\",\"coloraxis\":{\"colorbar\":{\"outlinewidth\":0,\"ticks\":\"\"}},\"colorscale\":{\"diverging\":[[0,\"#8e0152\"],[0.1,\"#c51b7d\"],[0.2,\"#de77ae\"],[0.3,\"#f1b6da\"],[0.4,\"#fde0ef\"],[0.5,\"#f7f7f7\"],[0.6,\"#e6f5d0\"],[0.7,\"#b8e186\"],[0.8,\"#7fbc41\"],[0.9,\"#4d9221\"],[1,\"#276419\"]],\"sequential\":[[0.0,\"#0d0887\"],[0.1111111111111111,\"#46039f\"],[0.2222222222222222,\"#7201a8\"],[0.3333333333333333,\"#9c179e\"],[0.4444444444444444,\"#bd3786\"],[0.5555555555555556,\"#d8576b\"],[0.6666666666666666,\"#ed7953\"],[0.7777777777777778,\"#fb9f3a\"],[0.8888888888888888,\"#fdca26\"],[1.0,\"#f0f921\"]],\"sequentialminus\":[[0.0,\"#0d0887\"],[0.1111111111111111,\"#46039f\"],[0.2222222222222222,\"#7201a8\"],[0.3333333333333333,\"#9c179e\"],[0.4444444444444444,\"#bd3786\"],[0.5555555555555556,\"#d8576b\"],[0.6666666666666666,\"#ed7953\"],[0.7777777777777778,\"#fb9f3a\"],[0.8888888888888888,\"#fdca26\"],[1.0,\"#f0f921\"]]},\"colorway\":[\"#636efa\",\"#EF553B\",\"#00cc96\",\"#ab63fa\",\"#FFA15A\",\"#19d3f3\",\"#FF6692\",\"#B6E880\",\"#FF97FF\",\"#FECB52\"],\"font\":{\"color\":\"#2a3f5f\"},\"geo\":{\"bgcolor\":\"white\",\"lakecolor\":\"white\",\"landcolor\":\"#E5ECF6\",\"showlakes\":true,\"showland\":true,\"subunitcolor\":\"white\"},\"hoverlabel\":{\"align\":\"left\"},\"hovermode\":\"closest\",\"mapbox\":{\"style\":\"light\"},\"paper_bgcolor\":\"white\",\"plot_bgcolor\":\"#E5ECF6\",\"polar\":{\"angularaxis\":{\"gridcolor\":\"white\",\"linecolor\":\"white\",\"ticks\":\"\"},\"bgcolor\":\"#E5ECF6\",\"radialaxis\":{\"gridcolor\":\"white\",\"linecolor\":\"white\",\"ticks\":\"\"}},\"scene\":{\"xaxis\":{\"backgroundcolor\":\"#E5ECF6\",\"gridcolor\":\"white\",\"gridwidth\":2,\"linecolor\":\"white\",\"showbackground\":true,\"ticks\":\"\",\"zerolinecolor\":\"white\"},\"yaxis\":{\"backgroundcolor\":\"#E5ECF6\",\"gridcolor\":\"white\",\"gridwidth\":2,\"linecolor\":\"white\",\"showbackground\":true,\"ticks\":\"\",\"zerolinecolor\":\"white\"},\"zaxis\":{\"backgroundcolor\":\"#E5ECF6\",\"gridcolor\":\"white\",\"gridwidth\":2,\"linecolor\":\"white\",\"showbackground\":true,\"ticks\":\"\",\"zerolinecolor\":\"white\"}},\"shapedefaults\":{\"line\":{\"color\":\"#2a3f5f\"}},\"ternary\":{\"aaxis\":{\"gridcolor\":\"white\",\"linecolor\":\"white\",\"ticks\":\"\"},\"baxis\":{\"gridcolor\":\"white\",\"linecolor\":\"white\",\"ticks\":\"\"},\"bgcolor\":\"#E5ECF6\",\"caxis\":{\"gridcolor\":\"white\",\"linecolor\":\"white\",\"ticks\":\"\"}},\"title\":{\"x\":0.05},\"xaxis\":{\"automargin\":true,\"gridcolor\":\"white\",\"linecolor\":\"white\",\"ticks\":\"\",\"title\":{\"standoff\":15},\"zerolinecolor\":\"white\",\"zerolinewidth\":2},\"yaxis\":{\"automargin\":true,\"gridcolor\":\"white\",\"linecolor\":\"white\",\"ticks\":\"\",\"title\":{\"standoff\":15},\"zerolinecolor\":\"white\",\"zerolinewidth\":2}}},\"title\":{\"font\":{\"color\":\"#4D5663\"},\"text\":\"16-24 claimant count as a proportion of 16-24 population\"},\"xaxis\":{\"gridcolor\":\"#E1E5ED\",\"showgrid\":true,\"tickfont\":{\"color\":\"#4D5663\"},\"title\":{\"font\":{\"color\":\"#4D5663\"},\"text\":\"Date\"},\"zerolinecolor\":\"#E1E5ED\"},\"yaxis\":{\"gridcolor\":\"#E1E5ED\",\"showgrid\":true,\"tickfont\":{\"color\":\"#4D5663\"},\"title\":{\"font\":{\"color\":\"#4D5663\"},\"text\":\"Claimant proportion (%)\"},\"zerolinecolor\":\"#E1E5ED\"}},                        {\"showLink\": true, \"linkText\": \"Export to plot.ly\", \"plotlyServerURL\": \"https://plot.ly\", \"responsive\": true}                    ).then(function(){\n",
       "                            \n",
       "var gd = document.getElementById('e7a82462-fa90-4748-b406-e571f9c4e583');\n",
       "var x = new MutationObserver(function (mutations, observer) {{\n",
       "        var display = window.getComputedStyle(gd).display;\n",
       "        if (!display || display === 'none') {{\n",
       "            console.log([gd, 'removed!']);\n",
       "            Plotly.purge(gd);\n",
       "            observer.disconnect();\n",
       "        }}\n",
       "}});\n",
       "\n",
       "// Listen for the removal of the full notebook cells\n",
       "var notebookContainer = gd.closest('#notebook-container');\n",
       "if (notebookContainer) {{\n",
       "    x.observe(notebookContainer, {childList: true});\n",
       "}}\n",
       "\n",
       "// Listen for the clearing of the current output cell\n",
       "var outputEl = gd.closest('.output');\n",
       "if (outputEl) {{\n",
       "    x.observe(outputEl, {childList: true});\n",
       "}}\n",
       "\n",
       "                        })                };                });            </script>        </div>"
      ]
     },
     "metadata": {},
     "output_type": "display_data"
    }
   ],
   "source": [
    "df2.iplot(yTitle='Claimant proportion (%)', xTitle='Date', title='16-24 claimant count as a proportion of 16-24 population')"
   ]
  },
  {
   "cell_type": "code",
   "execution_count": 51,
   "id": "85114b64",
   "metadata": {},
   "outputs": [],
   "source": [
    "df3 = pd.read_excel(\"nomis_claimants_2018_to_2022.xlsx\", sheet_name=2)"
   ]
  },
  {
   "cell_type": "code",
   "execution_count": 52,
   "id": "ad4241cf",
   "metadata": {},
   "outputs": [
    {
     "data": {
      "text/html": [
       "<div>\n",
       "<style scoped>\n",
       "    .dataframe tbody tr th:only-of-type {\n",
       "        vertical-align: middle;\n",
       "    }\n",
       "\n",
       "    .dataframe tbody tr th {\n",
       "        vertical-align: top;\n",
       "    }\n",
       "\n",
       "    .dataframe thead th {\n",
       "        text-align: right;\n",
       "    }\n",
       "</style>\n",
       "<table border=\"1\" class=\"dataframe\">\n",
       "  <thead>\n",
       "    <tr style=\"text-align: right;\">\n",
       "      <th></th>\n",
       "      <th>Claimant count by sex and age</th>\n",
       "      <th>Unnamed: 1</th>\n",
       "      <th>Unnamed: 2</th>\n",
       "      <th>Unnamed: 3</th>\n",
       "      <th>Unnamed: 4</th>\n",
       "      <th>Unnamed: 5</th>\n",
       "      <th>Unnamed: 6</th>\n",
       "      <th>Unnamed: 7</th>\n",
       "      <th>Unnamed: 8</th>\n",
       "      <th>Unnamed: 9</th>\n",
       "      <th>Unnamed: 10</th>\n",
       "    </tr>\n",
       "  </thead>\n",
       "  <tbody>\n",
       "    <tr>\n",
       "      <th>0</th>\n",
       "      <td>ONS Crown Copyright Reserved [from Nomis on 18...</td>\n",
       "      <td>NaN</td>\n",
       "      <td>NaN</td>\n",
       "      <td>NaN</td>\n",
       "      <td>NaN</td>\n",
       "      <td>NaN</td>\n",
       "      <td>NaN</td>\n",
       "      <td>NaN</td>\n",
       "      <td>NaN</td>\n",
       "      <td>NaN</td>\n",
       "      <td>NaN</td>\n",
       "    </tr>\n",
       "    <tr>\n",
       "      <th>1</th>\n",
       "      <td>NaN</td>\n",
       "      <td>NaN</td>\n",
       "      <td>NaN</td>\n",
       "      <td>NaN</td>\n",
       "      <td>NaN</td>\n",
       "      <td>NaN</td>\n",
       "      <td>NaN</td>\n",
       "      <td>NaN</td>\n",
       "      <td>NaN</td>\n",
       "      <td>NaN</td>\n",
       "      <td>NaN</td>\n",
       "    </tr>\n",
       "    <tr>\n",
       "      <th>2</th>\n",
       "      <td>gender</td>\n",
       "      <td>Total</td>\n",
       "      <td>NaN</td>\n",
       "      <td>NaN</td>\n",
       "      <td>NaN</td>\n",
       "      <td>NaN</td>\n",
       "      <td>NaN</td>\n",
       "      <td>NaN</td>\n",
       "      <td>NaN</td>\n",
       "      <td>NaN</td>\n",
       "      <td>NaN</td>\n",
       "    </tr>\n",
       "    <tr>\n",
       "      <th>3</th>\n",
       "      <td>age</td>\n",
       "      <td>Aged 16-24</td>\n",
       "      <td>NaN</td>\n",
       "      <td>NaN</td>\n",
       "      <td>NaN</td>\n",
       "      <td>NaN</td>\n",
       "      <td>NaN</td>\n",
       "      <td>NaN</td>\n",
       "      <td>NaN</td>\n",
       "      <td>NaN</td>\n",
       "      <td>NaN</td>\n",
       "    </tr>\n",
       "    <tr>\n",
       "      <th>4</th>\n",
       "      <td>measure</td>\n",
       "      <td>Claimant count</td>\n",
       "      <td>NaN</td>\n",
       "      <td>NaN</td>\n",
       "      <td>NaN</td>\n",
       "      <td>NaN</td>\n",
       "      <td>NaN</td>\n",
       "      <td>NaN</td>\n",
       "      <td>NaN</td>\n",
       "      <td>NaN</td>\n",
       "      <td>NaN</td>\n",
       "    </tr>\n",
       "    <tr>\n",
       "      <th>5</th>\n",
       "      <td>NaN</td>\n",
       "      <td>NaN</td>\n",
       "      <td>NaN</td>\n",
       "      <td>NaN</td>\n",
       "      <td>NaN</td>\n",
       "      <td>NaN</td>\n",
       "      <td>NaN</td>\n",
       "      <td>NaN</td>\n",
       "      <td>NaN</td>\n",
       "      <td>NaN</td>\n",
       "      <td>NaN</td>\n",
       "    </tr>\n",
       "    <tr>\n",
       "      <th>6</th>\n",
       "      <td>Date</td>\n",
       "      <td>Birmingham, Edgbaston</td>\n",
       "      <td>Birmingham, Erdington</td>\n",
       "      <td>Birmingham, Hall Green</td>\n",
       "      <td>Birmingham, Hodge Hill</td>\n",
       "      <td>Birmingham, Ladywood</td>\n",
       "      <td>Birmingham, Northfield</td>\n",
       "      <td>Birmingham, Perry Barr</td>\n",
       "      <td>Birmingham, Selly Oak</td>\n",
       "      <td>Birmingham, Yardley</td>\n",
       "      <td>Sutton Coldfield</td>\n",
       "    </tr>\n",
       "    <tr>\n",
       "      <th>7</th>\n",
       "      <td>January 2018</td>\n",
       "      <td>410</td>\n",
       "      <td>610</td>\n",
       "      <td>685</td>\n",
       "      <td>835</td>\n",
       "      <td>975</td>\n",
       "      <td>545</td>\n",
       "      <td>645</td>\n",
       "      <td>425</td>\n",
       "      <td>575</td>\n",
       "      <td>145</td>\n",
       "    </tr>\n",
       "    <tr>\n",
       "      <th>8</th>\n",
       "      <td>February 2018</td>\n",
       "      <td>425</td>\n",
       "      <td>635</td>\n",
       "      <td>725</td>\n",
       "      <td>860</td>\n",
       "      <td>1015</td>\n",
       "      <td>580</td>\n",
       "      <td>695</td>\n",
       "      <td>450</td>\n",
       "      <td>600</td>\n",
       "      <td>155</td>\n",
       "    </tr>\n",
       "    <tr>\n",
       "      <th>9</th>\n",
       "      <td>March 2018</td>\n",
       "      <td>435</td>\n",
       "      <td>645</td>\n",
       "      <td>745</td>\n",
       "      <td>910</td>\n",
       "      <td>1035</td>\n",
       "      <td>605</td>\n",
       "      <td>715</td>\n",
       "      <td>475</td>\n",
       "      <td>605</td>\n",
       "      <td>165</td>\n",
       "    </tr>\n",
       "    <tr>\n",
       "      <th>10</th>\n",
       "      <td>April 2018</td>\n",
       "      <td>455</td>\n",
       "      <td>660</td>\n",
       "      <td>755</td>\n",
       "      <td>985</td>\n",
       "      <td>1080</td>\n",
       "      <td>615</td>\n",
       "      <td>740</td>\n",
       "      <td>475</td>\n",
       "      <td>620</td>\n",
       "      <td>185</td>\n",
       "    </tr>\n",
       "    <tr>\n",
       "      <th>11</th>\n",
       "      <td>May 2018</td>\n",
       "      <td>450</td>\n",
       "      <td>685</td>\n",
       "      <td>755</td>\n",
       "      <td>985</td>\n",
       "      <td>1105</td>\n",
       "      <td>635</td>\n",
       "      <td>750</td>\n",
       "      <td>500</td>\n",
       "      <td>645</td>\n",
       "      <td>175</td>\n",
       "    </tr>\n",
       "    <tr>\n",
       "      <th>12</th>\n",
       "      <td>June 2018</td>\n",
       "      <td>475</td>\n",
       "      <td>715</td>\n",
       "      <td>790</td>\n",
       "      <td>1020</td>\n",
       "      <td>1130</td>\n",
       "      <td>625</td>\n",
       "      <td>765</td>\n",
       "      <td>530</td>\n",
       "      <td>670</td>\n",
       "      <td>155</td>\n",
       "    </tr>\n",
       "    <tr>\n",
       "      <th>13</th>\n",
       "      <td>July 2018</td>\n",
       "      <td>485</td>\n",
       "      <td>720</td>\n",
       "      <td>815</td>\n",
       "      <td>1030</td>\n",
       "      <td>1160</td>\n",
       "      <td>655</td>\n",
       "      <td>775</td>\n",
       "      <td>555</td>\n",
       "      <td>700</td>\n",
       "      <td>155</td>\n",
       "    </tr>\n",
       "    <tr>\n",
       "      <th>14</th>\n",
       "      <td>August 2018</td>\n",
       "      <td>490</td>\n",
       "      <td>755</td>\n",
       "      <td>820</td>\n",
       "      <td>1065</td>\n",
       "      <td>1175</td>\n",
       "      <td>675</td>\n",
       "      <td>770</td>\n",
       "      <td>545</td>\n",
       "      <td>730</td>\n",
       "      <td>155</td>\n",
       "    </tr>\n",
       "    <tr>\n",
       "      <th>15</th>\n",
       "      <td>September 2018</td>\n",
       "      <td>520</td>\n",
       "      <td>745</td>\n",
       "      <td>855</td>\n",
       "      <td>1035</td>\n",
       "      <td>1225</td>\n",
       "      <td>675</td>\n",
       "      <td>780</td>\n",
       "      <td>565</td>\n",
       "      <td>745</td>\n",
       "      <td>170</td>\n",
       "    </tr>\n",
       "    <tr>\n",
       "      <th>16</th>\n",
       "      <td>October 2018</td>\n",
       "      <td>540</td>\n",
       "      <td>815</td>\n",
       "      <td>870</td>\n",
       "      <td>1060</td>\n",
       "      <td>1250</td>\n",
       "      <td>685</td>\n",
       "      <td>770</td>\n",
       "      <td>560</td>\n",
       "      <td>735</td>\n",
       "      <td>195</td>\n",
       "    </tr>\n",
       "    <tr>\n",
       "      <th>17</th>\n",
       "      <td>November 2018</td>\n",
       "      <td>545</td>\n",
       "      <td>800</td>\n",
       "      <td>805</td>\n",
       "      <td>1045</td>\n",
       "      <td>1225</td>\n",
       "      <td>715</td>\n",
       "      <td>755</td>\n",
       "      <td>565</td>\n",
       "      <td>720</td>\n",
       "      <td>195</td>\n",
       "    </tr>\n",
       "    <tr>\n",
       "      <th>18</th>\n",
       "      <td>December 2018</td>\n",
       "      <td>535</td>\n",
       "      <td>780</td>\n",
       "      <td>790</td>\n",
       "      <td>1025</td>\n",
       "      <td>1205</td>\n",
       "      <td>705</td>\n",
       "      <td>745</td>\n",
       "      <td>575</td>\n",
       "      <td>710</td>\n",
       "      <td>175</td>\n",
       "    </tr>\n",
       "    <tr>\n",
       "      <th>19</th>\n",
       "      <td>January 2019</td>\n",
       "      <td>550</td>\n",
       "      <td>790</td>\n",
       "      <td>785</td>\n",
       "      <td>1015</td>\n",
       "      <td>1215</td>\n",
       "      <td>715</td>\n",
       "      <td>765</td>\n",
       "      <td>575</td>\n",
       "      <td>715</td>\n",
       "      <td>180</td>\n",
       "    </tr>\n",
       "    <tr>\n",
       "      <th>20</th>\n",
       "      <td>February 2019</td>\n",
       "      <td>575</td>\n",
       "      <td>825</td>\n",
       "      <td>810</td>\n",
       "      <td>1105</td>\n",
       "      <td>1310</td>\n",
       "      <td>735</td>\n",
       "      <td>805</td>\n",
       "      <td>610</td>\n",
       "      <td>755</td>\n",
       "      <td>195</td>\n",
       "    </tr>\n",
       "    <tr>\n",
       "      <th>21</th>\n",
       "      <td>March 2019</td>\n",
       "      <td>585</td>\n",
       "      <td>835</td>\n",
       "      <td>850</td>\n",
       "      <td>1135</td>\n",
       "      <td>1315</td>\n",
       "      <td>775</td>\n",
       "      <td>835</td>\n",
       "      <td>620</td>\n",
       "      <td>760</td>\n",
       "      <td>200</td>\n",
       "    </tr>\n",
       "    <tr>\n",
       "      <th>22</th>\n",
       "      <td>April 2019</td>\n",
       "      <td>585</td>\n",
       "      <td>860</td>\n",
       "      <td>860</td>\n",
       "      <td>1155</td>\n",
       "      <td>1385</td>\n",
       "      <td>765</td>\n",
       "      <td>860</td>\n",
       "      <td>635</td>\n",
       "      <td>780</td>\n",
       "      <td>195</td>\n",
       "    </tr>\n",
       "    <tr>\n",
       "      <th>23</th>\n",
       "      <td>May 2019</td>\n",
       "      <td>585</td>\n",
       "      <td>880</td>\n",
       "      <td>835</td>\n",
       "      <td>1135</td>\n",
       "      <td>1390</td>\n",
       "      <td>790</td>\n",
       "      <td>870</td>\n",
       "      <td>655</td>\n",
       "      <td>790</td>\n",
       "      <td>180</td>\n",
       "    </tr>\n",
       "    <tr>\n",
       "      <th>24</th>\n",
       "      <td>June 2019</td>\n",
       "      <td>610</td>\n",
       "      <td>900</td>\n",
       "      <td>885</td>\n",
       "      <td>1150</td>\n",
       "      <td>1445</td>\n",
       "      <td>800</td>\n",
       "      <td>875</td>\n",
       "      <td>655</td>\n",
       "      <td>785</td>\n",
       "      <td>180</td>\n",
       "    </tr>\n",
       "    <tr>\n",
       "      <th>25</th>\n",
       "      <td>July 2019</td>\n",
       "      <td>600</td>\n",
       "      <td>935</td>\n",
       "      <td>900</td>\n",
       "      <td>1150</td>\n",
       "      <td>1460</td>\n",
       "      <td>770</td>\n",
       "      <td>910</td>\n",
       "      <td>665</td>\n",
       "      <td>800</td>\n",
       "      <td>190</td>\n",
       "    </tr>\n",
       "    <tr>\n",
       "      <th>26</th>\n",
       "      <td>August 2019</td>\n",
       "      <td>630</td>\n",
       "      <td>955</td>\n",
       "      <td>930</td>\n",
       "      <td>1180</td>\n",
       "      <td>1500</td>\n",
       "      <td>780</td>\n",
       "      <td>975</td>\n",
       "      <td>655</td>\n",
       "      <td>860</td>\n",
       "      <td>200</td>\n",
       "    </tr>\n",
       "    <tr>\n",
       "      <th>27</th>\n",
       "      <td>September 2019</td>\n",
       "      <td>640</td>\n",
       "      <td>950</td>\n",
       "      <td>945</td>\n",
       "      <td>1145</td>\n",
       "      <td>1495</td>\n",
       "      <td>780</td>\n",
       "      <td>1000</td>\n",
       "      <td>660</td>\n",
       "      <td>860</td>\n",
       "      <td>215</td>\n",
       "    </tr>\n",
       "    <tr>\n",
       "      <th>28</th>\n",
       "      <td>October 2019</td>\n",
       "      <td>630</td>\n",
       "      <td>945</td>\n",
       "      <td>960</td>\n",
       "      <td>1175</td>\n",
       "      <td>1475</td>\n",
       "      <td>805</td>\n",
       "      <td>1005</td>\n",
       "      <td>685</td>\n",
       "      <td>865</td>\n",
       "      <td>220</td>\n",
       "    </tr>\n",
       "    <tr>\n",
       "      <th>29</th>\n",
       "      <td>November 2019</td>\n",
       "      <td>635</td>\n",
       "      <td>945</td>\n",
       "      <td>970</td>\n",
       "      <td>1175</td>\n",
       "      <td>1465</td>\n",
       "      <td>830</td>\n",
       "      <td>985</td>\n",
       "      <td>710</td>\n",
       "      <td>890</td>\n",
       "      <td>215</td>\n",
       "    </tr>\n",
       "    <tr>\n",
       "      <th>30</th>\n",
       "      <td>December 2019</td>\n",
       "      <td>635</td>\n",
       "      <td>955</td>\n",
       "      <td>935</td>\n",
       "      <td>1150</td>\n",
       "      <td>1490</td>\n",
       "      <td>800</td>\n",
       "      <td>1025</td>\n",
       "      <td>675</td>\n",
       "      <td>880</td>\n",
       "      <td>190</td>\n",
       "    </tr>\n",
       "    <tr>\n",
       "      <th>31</th>\n",
       "      <td>January 2020</td>\n",
       "      <td>600</td>\n",
       "      <td>940</td>\n",
       "      <td>960</td>\n",
       "      <td>1115</td>\n",
       "      <td>1475</td>\n",
       "      <td>800</td>\n",
       "      <td>990</td>\n",
       "      <td>680</td>\n",
       "      <td>910</td>\n",
       "      <td>180</td>\n",
       "    </tr>\n",
       "    <tr>\n",
       "      <th>32</th>\n",
       "      <td>February 2020</td>\n",
       "      <td>645</td>\n",
       "      <td>975</td>\n",
       "      <td>990</td>\n",
       "      <td>1160</td>\n",
       "      <td>1545</td>\n",
       "      <td>805</td>\n",
       "      <td>1020</td>\n",
       "      <td>710</td>\n",
       "      <td>905</td>\n",
       "      <td>195</td>\n",
       "    </tr>\n",
       "    <tr>\n",
       "      <th>33</th>\n",
       "      <td>March 2020</td>\n",
       "      <td>660</td>\n",
       "      <td>995</td>\n",
       "      <td>1040</td>\n",
       "      <td>1190</td>\n",
       "      <td>1570</td>\n",
       "      <td>850</td>\n",
       "      <td>1075</td>\n",
       "      <td>725</td>\n",
       "      <td>920</td>\n",
       "      <td>195</td>\n",
       "    </tr>\n",
       "    <tr>\n",
       "      <th>34</th>\n",
       "      <td>April 2020</td>\n",
       "      <td>900</td>\n",
       "      <td>1310</td>\n",
       "      <td>1360</td>\n",
       "      <td>1645</td>\n",
       "      <td>2030</td>\n",
       "      <td>1140</td>\n",
       "      <td>1350</td>\n",
       "      <td>990</td>\n",
       "      <td>1240</td>\n",
       "      <td>420</td>\n",
       "    </tr>\n",
       "    <tr>\n",
       "      <th>35</th>\n",
       "      <td>May 2020</td>\n",
       "      <td>1055</td>\n",
       "      <td>1655</td>\n",
       "      <td>1725</td>\n",
       "      <td>2100</td>\n",
       "      <td>2545</td>\n",
       "      <td>1295</td>\n",
       "      <td>1730</td>\n",
       "      <td>1125</td>\n",
       "      <td>1570</td>\n",
       "      <td>510</td>\n",
       "    </tr>\n",
       "    <tr>\n",
       "      <th>36</th>\n",
       "      <td>June 2020</td>\n",
       "      <td>1080</td>\n",
       "      <td>1610</td>\n",
       "      <td>1790</td>\n",
       "      <td>2205</td>\n",
       "      <td>2625</td>\n",
       "      <td>1315</td>\n",
       "      <td>1755</td>\n",
       "      <td>1185</td>\n",
       "      <td>1565</td>\n",
       "      <td>540</td>\n",
       "    </tr>\n",
       "    <tr>\n",
       "      <th>37</th>\n",
       "      <td>July 2020</td>\n",
       "      <td>1125</td>\n",
       "      <td>1660</td>\n",
       "      <td>1875</td>\n",
       "      <td>2235</td>\n",
       "      <td>2615</td>\n",
       "      <td>1355</td>\n",
       "      <td>1795</td>\n",
       "      <td>1220</td>\n",
       "      <td>1625</td>\n",
       "      <td>550</td>\n",
       "    </tr>\n",
       "    <tr>\n",
       "      <th>38</th>\n",
       "      <td>August 2020</td>\n",
       "      <td>1135</td>\n",
       "      <td>1665</td>\n",
       "      <td>1870</td>\n",
       "      <td>2265</td>\n",
       "      <td>2655</td>\n",
       "      <td>1350</td>\n",
       "      <td>1820</td>\n",
       "      <td>1235</td>\n",
       "      <td>1650</td>\n",
       "      <td>580</td>\n",
       "    </tr>\n",
       "    <tr>\n",
       "      <th>39</th>\n",
       "      <td>September 2020</td>\n",
       "      <td>1110</td>\n",
       "      <td>1690</td>\n",
       "      <td>1890</td>\n",
       "      <td>2265</td>\n",
       "      <td>2640</td>\n",
       "      <td>1365</td>\n",
       "      <td>1800</td>\n",
       "      <td>1220</td>\n",
       "      <td>1670</td>\n",
       "      <td>570</td>\n",
       "    </tr>\n",
       "    <tr>\n",
       "      <th>40</th>\n",
       "      <td>October 2020</td>\n",
       "      <td>1115</td>\n",
       "      <td>1700</td>\n",
       "      <td>1835</td>\n",
       "      <td>2285</td>\n",
       "      <td>2630</td>\n",
       "      <td>1415</td>\n",
       "      <td>1805</td>\n",
       "      <td>1230</td>\n",
       "      <td>1690</td>\n",
       "      <td>555</td>\n",
       "    </tr>\n",
       "    <tr>\n",
       "      <th>41</th>\n",
       "      <td>November 2020</td>\n",
       "      <td>1125</td>\n",
       "      <td>1675</td>\n",
       "      <td>1830</td>\n",
       "      <td>2315</td>\n",
       "      <td>2635</td>\n",
       "      <td>1390</td>\n",
       "      <td>1775</td>\n",
       "      <td>1210</td>\n",
       "      <td>1640</td>\n",
       "      <td>520</td>\n",
       "    </tr>\n",
       "    <tr>\n",
       "      <th>42</th>\n",
       "      <td>December 2020</td>\n",
       "      <td>1125</td>\n",
       "      <td>1655</td>\n",
       "      <td>1840</td>\n",
       "      <td>2295</td>\n",
       "      <td>2605</td>\n",
       "      <td>1385</td>\n",
       "      <td>1750</td>\n",
       "      <td>1205</td>\n",
       "      <td>1645</td>\n",
       "      <td>525</td>\n",
       "    </tr>\n",
       "    <tr>\n",
       "      <th>43</th>\n",
       "      <td>January 2021</td>\n",
       "      <td>1120</td>\n",
       "      <td>1630</td>\n",
       "      <td>1795</td>\n",
       "      <td>2250</td>\n",
       "      <td>2565</td>\n",
       "      <td>1360</td>\n",
       "      <td>1675</td>\n",
       "      <td>1140</td>\n",
       "      <td>1665</td>\n",
       "      <td>500</td>\n",
       "    </tr>\n",
       "    <tr>\n",
       "      <th>44</th>\n",
       "      <td>February 2021</td>\n",
       "      <td>1155</td>\n",
       "      <td>1690</td>\n",
       "      <td>1845</td>\n",
       "      <td>2340</td>\n",
       "      <td>2645</td>\n",
       "      <td>1430</td>\n",
       "      <td>1750</td>\n",
       "      <td>1165</td>\n",
       "      <td>1690</td>\n",
       "      <td>520</td>\n",
       "    </tr>\n",
       "    <tr>\n",
       "      <th>45</th>\n",
       "      <td>March 2021</td>\n",
       "      <td>1150</td>\n",
       "      <td>1695</td>\n",
       "      <td>1840</td>\n",
       "      <td>2390</td>\n",
       "      <td>2745</td>\n",
       "      <td>1420</td>\n",
       "      <td>1785</td>\n",
       "      <td>1175</td>\n",
       "      <td>1730</td>\n",
       "      <td>525</td>\n",
       "    </tr>\n",
       "    <tr>\n",
       "      <th>46</th>\n",
       "      <td>April 2021</td>\n",
       "      <td>1130</td>\n",
       "      <td>1705</td>\n",
       "      <td>1840</td>\n",
       "      <td>2360</td>\n",
       "      <td>2720</td>\n",
       "      <td>1390</td>\n",
       "      <td>1765</td>\n",
       "      <td>1150</td>\n",
       "      <td>1710</td>\n",
       "      <td>520</td>\n",
       "    </tr>\n",
       "    <tr>\n",
       "      <th>47</th>\n",
       "      <td>May 2021</td>\n",
       "      <td>1080</td>\n",
       "      <td>1660</td>\n",
       "      <td>1745</td>\n",
       "      <td>2265</td>\n",
       "      <td>2585</td>\n",
       "      <td>1295</td>\n",
       "      <td>1720</td>\n",
       "      <td>1100</td>\n",
       "      <td>1625</td>\n",
       "      <td>475</td>\n",
       "    </tr>\n",
       "    <tr>\n",
       "      <th>48</th>\n",
       "      <td>June 2021</td>\n",
       "      <td>1040</td>\n",
       "      <td>1580</td>\n",
       "      <td>1695</td>\n",
       "      <td>2215</td>\n",
       "      <td>2485</td>\n",
       "      <td>1255</td>\n",
       "      <td>1635</td>\n",
       "      <td>1055</td>\n",
       "      <td>1560</td>\n",
       "      <td>430</td>\n",
       "    </tr>\n",
       "    <tr>\n",
       "      <th>49</th>\n",
       "      <td>July 2021</td>\n",
       "      <td>995</td>\n",
       "      <td>1565</td>\n",
       "      <td>1650</td>\n",
       "      <td>2155</td>\n",
       "      <td>2380</td>\n",
       "      <td>1180</td>\n",
       "      <td>1560</td>\n",
       "      <td>1015</td>\n",
       "      <td>1495</td>\n",
       "      <td>405</td>\n",
       "    </tr>\n",
       "    <tr>\n",
       "      <th>50</th>\n",
       "      <td>August 2021</td>\n",
       "      <td>985</td>\n",
       "      <td>1470</td>\n",
       "      <td>1595</td>\n",
       "      <td>2070</td>\n",
       "      <td>2320</td>\n",
       "      <td>1165</td>\n",
       "      <td>1530</td>\n",
       "      <td>975</td>\n",
       "      <td>1460</td>\n",
       "      <td>385</td>\n",
       "    </tr>\n",
       "    <tr>\n",
       "      <th>51</th>\n",
       "      <td>September 2021</td>\n",
       "      <td>955</td>\n",
       "      <td>1395</td>\n",
       "      <td>1540</td>\n",
       "      <td>1975</td>\n",
       "      <td>2235</td>\n",
       "      <td>1115</td>\n",
       "      <td>1450</td>\n",
       "      <td>940</td>\n",
       "      <td>1360</td>\n",
       "      <td>350</td>\n",
       "    </tr>\n",
       "    <tr>\n",
       "      <th>52</th>\n",
       "      <td>October 2021</td>\n",
       "      <td>915</td>\n",
       "      <td>1340</td>\n",
       "      <td>1465</td>\n",
       "      <td>1840</td>\n",
       "      <td>2075</td>\n",
       "      <td>1080</td>\n",
       "      <td>1375</td>\n",
       "      <td>875</td>\n",
       "      <td>1290</td>\n",
       "      <td>335</td>\n",
       "    </tr>\n",
       "    <tr>\n",
       "      <th>53</th>\n",
       "      <td>November 2021</td>\n",
       "      <td>885</td>\n",
       "      <td>1290</td>\n",
       "      <td>1360</td>\n",
       "      <td>1760</td>\n",
       "      <td>2015</td>\n",
       "      <td>1025</td>\n",
       "      <td>1310</td>\n",
       "      <td>845</td>\n",
       "      <td>1240</td>\n",
       "      <td>310</td>\n",
       "    </tr>\n",
       "    <tr>\n",
       "      <th>54</th>\n",
       "      <td>December 2021</td>\n",
       "      <td>830</td>\n",
       "      <td>1205</td>\n",
       "      <td>1265</td>\n",
       "      <td>1640</td>\n",
       "      <td>1870</td>\n",
       "      <td>975</td>\n",
       "      <td>1265</td>\n",
       "      <td>800</td>\n",
       "      <td>1145</td>\n",
       "      <td>260</td>\n",
       "    </tr>\n",
       "    <tr>\n",
       "      <th>55</th>\n",
       "      <td>January 2022</td>\n",
       "      <td>805</td>\n",
       "      <td>1195</td>\n",
       "      <td>1235</td>\n",
       "      <td>1550</td>\n",
       "      <td>1840</td>\n",
       "      <td>940</td>\n",
       "      <td>1210</td>\n",
       "      <td>775</td>\n",
       "      <td>1100</td>\n",
       "      <td>240</td>\n",
       "    </tr>\n",
       "    <tr>\n",
       "      <th>56</th>\n",
       "      <td>February 2022</td>\n",
       "      <td>795</td>\n",
       "      <td>1205</td>\n",
       "      <td>1260</td>\n",
       "      <td>1620</td>\n",
       "      <td>1900</td>\n",
       "      <td>965</td>\n",
       "      <td>1265</td>\n",
       "      <td>815</td>\n",
       "      <td>1150</td>\n",
       "      <td>240</td>\n",
       "    </tr>\n",
       "    <tr>\n",
       "      <th>57</th>\n",
       "      <td>March 2022</td>\n",
       "      <td>775</td>\n",
       "      <td>1200</td>\n",
       "      <td>1225</td>\n",
       "      <td>1620</td>\n",
       "      <td>1860</td>\n",
       "      <td>920</td>\n",
       "      <td>1240</td>\n",
       "      <td>820</td>\n",
       "      <td>1150</td>\n",
       "      <td>240</td>\n",
       "    </tr>\n",
       "    <tr>\n",
       "      <th>58</th>\n",
       "      <td>April 2022</td>\n",
       "      <td>765</td>\n",
       "      <td>1105</td>\n",
       "      <td>1165</td>\n",
       "      <td>1590</td>\n",
       "      <td>1905</td>\n",
       "      <td>880</td>\n",
       "      <td>1220</td>\n",
       "      <td>805</td>\n",
       "      <td>1145</td>\n",
       "      <td>235</td>\n",
       "    </tr>\n",
       "    <tr>\n",
       "      <th>59</th>\n",
       "      <td>May 2022</td>\n",
       "      <td>740</td>\n",
       "      <td>1115</td>\n",
       "      <td>1200</td>\n",
       "      <td>1555</td>\n",
       "      <td>1870</td>\n",
       "      <td>875</td>\n",
       "      <td>1185</td>\n",
       "      <td>775</td>\n",
       "      <td>1125</td>\n",
       "      <td>220</td>\n",
       "    </tr>\n",
       "  </tbody>\n",
       "</table>\n",
       "</div>"
      ],
      "text/plain": [
       "                        Claimant count by sex and age             Unnamed: 1  \\\n",
       "0   ONS Crown Copyright Reserved [from Nomis on 18...                    NaN   \n",
       "1                                                 NaN                    NaN   \n",
       "2                                              gender                  Total   \n",
       "3                                                 age             Aged 16-24   \n",
       "4                                             measure         Claimant count   \n",
       "5                                                 NaN                    NaN   \n",
       "6                                                Date  Birmingham, Edgbaston   \n",
       "7                                        January 2018                    410   \n",
       "8                                       February 2018                    425   \n",
       "9                                          March 2018                    435   \n",
       "10                                         April 2018                    455   \n",
       "11                                           May 2018                    450   \n",
       "12                                          June 2018                    475   \n",
       "13                                          July 2018                    485   \n",
       "14                                        August 2018                    490   \n",
       "15                                     September 2018                    520   \n",
       "16                                       October 2018                    540   \n",
       "17                                      November 2018                    545   \n",
       "18                                      December 2018                    535   \n",
       "19                                       January 2019                    550   \n",
       "20                                      February 2019                    575   \n",
       "21                                         March 2019                    585   \n",
       "22                                         April 2019                    585   \n",
       "23                                           May 2019                    585   \n",
       "24                                          June 2019                    610   \n",
       "25                                          July 2019                    600   \n",
       "26                                        August 2019                    630   \n",
       "27                                     September 2019                    640   \n",
       "28                                       October 2019                    630   \n",
       "29                                      November 2019                    635   \n",
       "30                                      December 2019                    635   \n",
       "31                                       January 2020                    600   \n",
       "32                                      February 2020                    645   \n",
       "33                                         March 2020                    660   \n",
       "34                                         April 2020                    900   \n",
       "35                                           May 2020                   1055   \n",
       "36                                          June 2020                   1080   \n",
       "37                                          July 2020                   1125   \n",
       "38                                        August 2020                   1135   \n",
       "39                                     September 2020                   1110   \n",
       "40                                       October 2020                   1115   \n",
       "41                                      November 2020                   1125   \n",
       "42                                      December 2020                   1125   \n",
       "43                                       January 2021                   1120   \n",
       "44                                      February 2021                   1155   \n",
       "45                                         March 2021                   1150   \n",
       "46                                         April 2021                   1130   \n",
       "47                                           May 2021                   1080   \n",
       "48                                          June 2021                   1040   \n",
       "49                                          July 2021                    995   \n",
       "50                                        August 2021                    985   \n",
       "51                                     September 2021                    955   \n",
       "52                                       October 2021                    915   \n",
       "53                                      November 2021                    885   \n",
       "54                                      December 2021                    830   \n",
       "55                                       January 2022                    805   \n",
       "56                                      February 2022                    795   \n",
       "57                                         March 2022                    775   \n",
       "58                                         April 2022                    765   \n",
       "59                                           May 2022                    740   \n",
       "\n",
       "               Unnamed: 2              Unnamed: 3              Unnamed: 4  \\\n",
       "0                     NaN                     NaN                     NaN   \n",
       "1                     NaN                     NaN                     NaN   \n",
       "2                     NaN                     NaN                     NaN   \n",
       "3                     NaN                     NaN                     NaN   \n",
       "4                     NaN                     NaN                     NaN   \n",
       "5                     NaN                     NaN                     NaN   \n",
       "6   Birmingham, Erdington  Birmingham, Hall Green  Birmingham, Hodge Hill   \n",
       "7                     610                     685                     835   \n",
       "8                     635                     725                     860   \n",
       "9                     645                     745                     910   \n",
       "10                    660                     755                     985   \n",
       "11                    685                     755                     985   \n",
       "12                    715                     790                    1020   \n",
       "13                    720                     815                    1030   \n",
       "14                    755                     820                    1065   \n",
       "15                    745                     855                    1035   \n",
       "16                    815                     870                    1060   \n",
       "17                    800                     805                    1045   \n",
       "18                    780                     790                    1025   \n",
       "19                    790                     785                    1015   \n",
       "20                    825                     810                    1105   \n",
       "21                    835                     850                    1135   \n",
       "22                    860                     860                    1155   \n",
       "23                    880                     835                    1135   \n",
       "24                    900                     885                    1150   \n",
       "25                    935                     900                    1150   \n",
       "26                    955                     930                    1180   \n",
       "27                    950                     945                    1145   \n",
       "28                    945                     960                    1175   \n",
       "29                    945                     970                    1175   \n",
       "30                    955                     935                    1150   \n",
       "31                    940                     960                    1115   \n",
       "32                    975                     990                    1160   \n",
       "33                    995                    1040                    1190   \n",
       "34                   1310                    1360                    1645   \n",
       "35                   1655                    1725                    2100   \n",
       "36                   1610                    1790                    2205   \n",
       "37                   1660                    1875                    2235   \n",
       "38                   1665                    1870                    2265   \n",
       "39                   1690                    1890                    2265   \n",
       "40                   1700                    1835                    2285   \n",
       "41                   1675                    1830                    2315   \n",
       "42                   1655                    1840                    2295   \n",
       "43                   1630                    1795                    2250   \n",
       "44                   1690                    1845                    2340   \n",
       "45                   1695                    1840                    2390   \n",
       "46                   1705                    1840                    2360   \n",
       "47                   1660                    1745                    2265   \n",
       "48                   1580                    1695                    2215   \n",
       "49                   1565                    1650                    2155   \n",
       "50                   1470                    1595                    2070   \n",
       "51                   1395                    1540                    1975   \n",
       "52                   1340                    1465                    1840   \n",
       "53                   1290                    1360                    1760   \n",
       "54                   1205                    1265                    1640   \n",
       "55                   1195                    1235                    1550   \n",
       "56                   1205                    1260                    1620   \n",
       "57                   1200                    1225                    1620   \n",
       "58                   1105                    1165                    1590   \n",
       "59                   1115                    1200                    1555   \n",
       "\n",
       "              Unnamed: 5              Unnamed: 6              Unnamed: 7  \\\n",
       "0                    NaN                     NaN                     NaN   \n",
       "1                    NaN                     NaN                     NaN   \n",
       "2                    NaN                     NaN                     NaN   \n",
       "3                    NaN                     NaN                     NaN   \n",
       "4                    NaN                     NaN                     NaN   \n",
       "5                    NaN                     NaN                     NaN   \n",
       "6   Birmingham, Ladywood  Birmingham, Northfield  Birmingham, Perry Barr   \n",
       "7                    975                     545                     645   \n",
       "8                   1015                     580                     695   \n",
       "9                   1035                     605                     715   \n",
       "10                  1080                     615                     740   \n",
       "11                  1105                     635                     750   \n",
       "12                  1130                     625                     765   \n",
       "13                  1160                     655                     775   \n",
       "14                  1175                     675                     770   \n",
       "15                  1225                     675                     780   \n",
       "16                  1250                     685                     770   \n",
       "17                  1225                     715                     755   \n",
       "18                  1205                     705                     745   \n",
       "19                  1215                     715                     765   \n",
       "20                  1310                     735                     805   \n",
       "21                  1315                     775                     835   \n",
       "22                  1385                     765                     860   \n",
       "23                  1390                     790                     870   \n",
       "24                  1445                     800                     875   \n",
       "25                  1460                     770                     910   \n",
       "26                  1500                     780                     975   \n",
       "27                  1495                     780                    1000   \n",
       "28                  1475                     805                    1005   \n",
       "29                  1465                     830                     985   \n",
       "30                  1490                     800                    1025   \n",
       "31                  1475                     800                     990   \n",
       "32                  1545                     805                    1020   \n",
       "33                  1570                     850                    1075   \n",
       "34                  2030                    1140                    1350   \n",
       "35                  2545                    1295                    1730   \n",
       "36                  2625                    1315                    1755   \n",
       "37                  2615                    1355                    1795   \n",
       "38                  2655                    1350                    1820   \n",
       "39                  2640                    1365                    1800   \n",
       "40                  2630                    1415                    1805   \n",
       "41                  2635                    1390                    1775   \n",
       "42                  2605                    1385                    1750   \n",
       "43                  2565                    1360                    1675   \n",
       "44                  2645                    1430                    1750   \n",
       "45                  2745                    1420                    1785   \n",
       "46                  2720                    1390                    1765   \n",
       "47                  2585                    1295                    1720   \n",
       "48                  2485                    1255                    1635   \n",
       "49                  2380                    1180                    1560   \n",
       "50                  2320                    1165                    1530   \n",
       "51                  2235                    1115                    1450   \n",
       "52                  2075                    1080                    1375   \n",
       "53                  2015                    1025                    1310   \n",
       "54                  1870                     975                    1265   \n",
       "55                  1840                     940                    1210   \n",
       "56                  1900                     965                    1265   \n",
       "57                  1860                     920                    1240   \n",
       "58                  1905                     880                    1220   \n",
       "59                  1870                     875                    1185   \n",
       "\n",
       "               Unnamed: 8           Unnamed: 9       Unnamed: 10  \n",
       "0                     NaN                  NaN               NaN  \n",
       "1                     NaN                  NaN               NaN  \n",
       "2                     NaN                  NaN               NaN  \n",
       "3                     NaN                  NaN               NaN  \n",
       "4                     NaN                  NaN               NaN  \n",
       "5                     NaN                  NaN               NaN  \n",
       "6   Birmingham, Selly Oak  Birmingham, Yardley  Sutton Coldfield  \n",
       "7                     425                  575               145  \n",
       "8                     450                  600               155  \n",
       "9                     475                  605               165  \n",
       "10                    475                  620               185  \n",
       "11                    500                  645               175  \n",
       "12                    530                  670               155  \n",
       "13                    555                  700               155  \n",
       "14                    545                  730               155  \n",
       "15                    565                  745               170  \n",
       "16                    560                  735               195  \n",
       "17                    565                  720               195  \n",
       "18                    575                  710               175  \n",
       "19                    575                  715               180  \n",
       "20                    610                  755               195  \n",
       "21                    620                  760               200  \n",
       "22                    635                  780               195  \n",
       "23                    655                  790               180  \n",
       "24                    655                  785               180  \n",
       "25                    665                  800               190  \n",
       "26                    655                  860               200  \n",
       "27                    660                  860               215  \n",
       "28                    685                  865               220  \n",
       "29                    710                  890               215  \n",
       "30                    675                  880               190  \n",
       "31                    680                  910               180  \n",
       "32                    710                  905               195  \n",
       "33                    725                  920               195  \n",
       "34                    990                 1240               420  \n",
       "35                   1125                 1570               510  \n",
       "36                   1185                 1565               540  \n",
       "37                   1220                 1625               550  \n",
       "38                   1235                 1650               580  \n",
       "39                   1220                 1670               570  \n",
       "40                   1230                 1690               555  \n",
       "41                   1210                 1640               520  \n",
       "42                   1205                 1645               525  \n",
       "43                   1140                 1665               500  \n",
       "44                   1165                 1690               520  \n",
       "45                   1175                 1730               525  \n",
       "46                   1150                 1710               520  \n",
       "47                   1100                 1625               475  \n",
       "48                   1055                 1560               430  \n",
       "49                   1015                 1495               405  \n",
       "50                    975                 1460               385  \n",
       "51                    940                 1360               350  \n",
       "52                    875                 1290               335  \n",
       "53                    845                 1240               310  \n",
       "54                    800                 1145               260  \n",
       "55                    775                 1100               240  \n",
       "56                    815                 1150               240  \n",
       "57                    820                 1150               240  \n",
       "58                    805                 1145               235  \n",
       "59                    775                 1125               220  "
      ]
     },
     "execution_count": 52,
     "metadata": {},
     "output_type": "execute_result"
    }
   ],
   "source": [
    "df3"
   ]
  }
 ],
 "metadata": {
  "kernelspec": {
   "display_name": "Python 3 (ipykernel)",
   "language": "python",
   "name": "python3"
  },
  "language_info": {
   "codemirror_mode": {
    "name": "ipython",
    "version": 3
   },
   "file_extension": ".py",
   "mimetype": "text/x-python",
   "name": "python",
   "nbconvert_exporter": "python",
   "pygments_lexer": "ipython3",
   "version": "3.9.12"
  }
 },
 "nbformat": 4,
 "nbformat_minor": 5
}
